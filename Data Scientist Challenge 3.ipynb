{
 "cells": [
  {
   "cell_type": "code",
   "execution_count": 306,
   "metadata": {},
   "outputs": [],
   "source": [
    "import pandas as pd\n",
    "from datetime import timedelta\n",
    "import matplotlib.pyplot as plt\n",
    "import seaborn as sns\n",
    "import numpy as np"
   ]
  },
  {
   "cell_type": "code",
   "execution_count": 3,
   "metadata": {},
   "outputs": [],
   "source": [
    "learner_item_data = pd.read_csv('learner_item_data.csv')"
   ]
  },
  {
   "cell_type": "code",
   "execution_count": 145,
   "metadata": {},
   "outputs": [
    {
     "data": {
      "text/html": [
       "<div>\n",
       "<style scoped>\n",
       "    .dataframe tbody tr th:only-of-type {\n",
       "        vertical-align: middle;\n",
       "    }\n",
       "\n",
       "    .dataframe tbody tr th {\n",
       "        vertical-align: top;\n",
       "    }\n",
       "\n",
       "    .dataframe thead th {\n",
       "        text-align: right;\n",
       "    }\n",
       "</style>\n",
       "<table border=\"1\" class=\"dataframe\">\n",
       "  <thead>\n",
       "    <tr style=\"text-align: right;\">\n",
       "      <th></th>\n",
       "      <th>uuid</th>\n",
       "      <th>created_at</th>\n",
       "      <th>trainer_item_id</th>\n",
       "    </tr>\n",
       "  </thead>\n",
       "  <tbody>\n",
       "    <tr>\n",
       "      <th>0</th>\n",
       "      <td>6953977</td>\n",
       "      <td>2017-01-16 10:54:43.386</td>\n",
       "      <td>0</td>\n",
       "    </tr>\n",
       "    <tr>\n",
       "      <th>1</th>\n",
       "      <td>6953977</td>\n",
       "      <td>2017-01-16 10:56:25.717</td>\n",
       "      <td>1</td>\n",
       "    </tr>\n",
       "    <tr>\n",
       "      <th>2</th>\n",
       "      <td>6953977</td>\n",
       "      <td>2017-01-16 10:55:50.642</td>\n",
       "      <td>2</td>\n",
       "    </tr>\n",
       "    <tr>\n",
       "      <th>3</th>\n",
       "      <td>6953977</td>\n",
       "      <td>2017-01-16 10:54:19.796</td>\n",
       "      <td>3</td>\n",
       "    </tr>\n",
       "    <tr>\n",
       "      <th>4</th>\n",
       "      <td>6953977</td>\n",
       "      <td>2017-01-16 10:55:10.654</td>\n",
       "      <td>1</td>\n",
       "    </tr>\n",
       "  </tbody>\n",
       "</table>\n",
       "</div>"
      ],
      "text/plain": [
       "      uuid              created_at  trainer_item_id\n",
       "0  6953977 2017-01-16 10:54:43.386                0\n",
       "1  6953977 2017-01-16 10:56:25.717                1\n",
       "2  6953977 2017-01-16 10:55:50.642                2\n",
       "3  6953977 2017-01-16 10:54:19.796                3\n",
       "4  6953977 2017-01-16 10:55:10.654                1"
      ]
     },
     "execution_count": 145,
     "metadata": {},
     "output_type": "execute_result"
    }
   ],
   "source": [
    "learner_item_data['created_at'] = pd.to_datetime(learner_item_data['created_at'])\n",
    "learner_item_data.head()"
   ]
  },
  {
   "cell_type": "code",
   "execution_count": 5,
   "metadata": {},
   "outputs": [],
   "source": [
    "test_groups = pd.read_csv('test_groups.csv')"
   ]
  },
  {
   "cell_type": "code",
   "execution_count": 6,
   "metadata": {},
   "outputs": [
    {
     "data": {
      "text/html": [
       "<div>\n",
       "<style scoped>\n",
       "    .dataframe tbody tr th:only-of-type {\n",
       "        vertical-align: middle;\n",
       "    }\n",
       "\n",
       "    .dataframe tbody tr th {\n",
       "        vertical-align: top;\n",
       "    }\n",
       "\n",
       "    .dataframe thead th {\n",
       "        text-align: right;\n",
       "    }\n",
       "</style>\n",
       "<table border=\"1\" class=\"dataframe\">\n",
       "  <thead>\n",
       "    <tr style=\"text-align: right;\">\n",
       "      <th></th>\n",
       "      <th>test_group</th>\n",
       "      <th>uuid</th>\n",
       "    </tr>\n",
       "  </thead>\n",
       "  <tbody>\n",
       "    <tr>\n",
       "      <th>0</th>\n",
       "      <td>control</td>\n",
       "      <td>6953977</td>\n",
       "    </tr>\n",
       "    <tr>\n",
       "      <th>1</th>\n",
       "      <td>test</td>\n",
       "      <td>1607983</td>\n",
       "    </tr>\n",
       "    <tr>\n",
       "      <th>2</th>\n",
       "      <td>control</td>\n",
       "      <td>6658627</td>\n",
       "    </tr>\n",
       "    <tr>\n",
       "      <th>3</th>\n",
       "      <td>control</td>\n",
       "      <td>4848596</td>\n",
       "    </tr>\n",
       "    <tr>\n",
       "      <th>4</th>\n",
       "      <td>test</td>\n",
       "      <td>1653336</td>\n",
       "    </tr>\n",
       "  </tbody>\n",
       "</table>\n",
       "</div>"
      ],
      "text/plain": [
       "  test_group     uuid\n",
       "0    control  6953977\n",
       "1       test  1607983\n",
       "2    control  6658627\n",
       "3    control  4848596\n",
       "4       test  1653336"
      ]
     },
     "execution_count": 6,
     "metadata": {},
     "output_type": "execute_result"
    }
   ],
   "source": [
    "test_groups.head()"
   ]
  },
  {
   "cell_type": "markdown",
   "metadata": {},
   "source": [
    "## 1. Group User Sessions"
   ]
  },
  {
   "cell_type": "code",
   "execution_count": 68,
   "metadata": {},
   "outputs": [],
   "source": [
    "# define treshold value as one hour\n",
    "T = timedelta(seconds=3600)\n",
    "\n",
    "# add a column containing previous timestamp\n",
    "learner_item_data_sessions =  pd.concat([learner_item_data.sort_values(['uuid','created_at']),\n",
    "                       learner_item_data.sort_values(['uuid','created_at']).groupby('uuid')['created_at'].transform(lambda x:x.shift(1))]\n",
    "                      ,axis=1)\n",
    "learner_item_data_sessions.columns = ['uuid','created_at', 'trainer_item_id','prev_created_at']\n",
    "\n",
    "# create the new session column\n",
    "learner_item_data_sessions['new_session'] = ((learner_item_data_sessions['created_at'] - learner_item_data_sessions['prev_created_at'])>T).astype(int)\n",
    "\n",
    "# create the session_id\n",
    "learner_item_data_sessions['increment'] = learner_item_data_sessions.sort_values(['uuid','created_at']).groupby(\"uuid\")['new_session'].cumsum()\n",
    "learner_item_data_sessions['session_id'] = learner_item_data_sessions['uuid'].astype(str) + '_' + learner_item_data_sessions['increment'].astype(str)\n",
    "\n",
    "# sorting DF\n",
    "learner_item_data_sessions = learner_item_data_sessions.sort_values(['uuid','created_at'])"
   ]
  },
  {
   "cell_type": "markdown",
   "metadata": {},
   "source": [
    "## 2a. What is the distribution (histogram) of session lengths?"
   ]
  },
  {
   "cell_type": "code",
   "execution_count": 83,
   "metadata": {},
   "outputs": [],
   "source": [
    "session_length = learner_item_data_sessions.groupby(['session_id'])['created_at'].max()-learner_item_data_sessions.groupby(['session_id'])['created_at'].min()"
   ]
  },
  {
   "cell_type": "code",
   "execution_count": 143,
   "metadata": {},
   "outputs": [
    {
     "data": {
      "text/plain": [
       "[Text(0, 0.5, 'Frequency'), Text(0.5, 0, 'Session Duration in Seconds')]"
      ]
     },
     "execution_count": 143,
     "metadata": {},
     "output_type": "execute_result"
    },
    {
     "data": {
      "image/png": "[encoded data removed]",
      "text/plain": [
       "<Figure size 432x288 with 1 Axes>"
      ]
     },
     "metadata": {
      "needs_background": "light"
     },
     "output_type": "display_data"
    }
   ],
   "source": [
    "# due to a lot of rare values and a very skewed distribution with a long tail, I capped the bigger sessions than 4000\n",
    "session_length_capped = np.where(session_length.dt.seconds > 4000, 4000, session_length.dt.seconds)\n",
    "h = sns.distplot(session_length_capped, bins=30, kde=False)\n",
    "h.set(xlabel='Session Duration in Seconds', ylabel='Frequency')"
   ]
  },
  {
   "cell_type": "markdown",
   "metadata": {},
   "source": [
    "## 2b. How many people do several sessions a day? How many sessions? "
   ]
  },
  {
   "cell_type": "markdown",
   "metadata": {},
   "source": [
    "Assumptions: I'm accounting only for the days users logged in and did at least an item, so it's not the overall average, including all days since their sign up (which I don't have access to) but only the amount of users that when logged in, always do only one session or users that at least more than once, had different sessions in the same day."
   ]
  },
  {
   "cell_type": "code",
   "execution_count": 147,
   "metadata": {},
   "outputs": [],
   "source": [
    "learner_item_data_sessions['date'] = learner_item_data_sessions['created_at'].dt.date"
   ]
  },
  {
   "cell_type": "code",
   "execution_count": 162,
   "metadata": {},
   "outputs": [],
   "source": [
    "total_sessions_per_user = learner_item_data_sessions.groupby(['uuid'])['session_id'].nunique()\n",
    "total_days_per_user = learner_item_data_sessions.groupby(['uuid'])['date'].nunique()"
   ]
  },
  {
   "cell_type": "code",
   "execution_count": 168,
   "metadata": {},
   "outputs": [],
   "source": [
    "avg_sessions_per_day = pd.DataFrame(total_sessions_per_user/total_days_per_user)"
   ]
  },
  {
   "cell_type": "code",
   "execution_count": 177,
   "metadata": {},
   "outputs": [
    {
     "data": {
      "text/plain": [
       "850"
      ]
     },
     "execution_count": 177,
     "metadata": {},
     "output_type": "execute_result"
    }
   ],
   "source": [
    "# number of people who at least for one day had more than one session\n",
    "avg_sessions_per_day[avg_sessions_per_day[0]>1].count()[0]"
   ]
  },
  {
   "cell_type": "code",
   "execution_count": 178,
   "metadata": {},
   "outputs": [
    {
     "data": {
      "text/plain": [
       "1.3624654135962855"
      ]
     },
     "execution_count": 178,
     "metadata": {},
     "output_type": "execute_result"
    }
   ],
   "source": [
    "# avg number of sessions for those who have more than one session per day\n",
    "avg_sessions_per_day[avg_sessions_per_day[0]>1].mean()[0]"
   ]
  },
  {
   "cell_type": "markdown",
   "metadata": {},
   "source": [
    "# 3."
   ]
  },
  {
   "cell_type": "code",
   "execution_count": 179,
   "metadata": {},
   "outputs": [],
   "source": [
    "merged_df = learner_item_data_sessions.merge(test_groups, on='uuid')"
   ]
  },
  {
   "cell_type": "code",
   "execution_count": 182,
   "metadata": {},
   "outputs": [
    {
     "data": {
      "text/html": [
       "<div>\n",
       "<style scoped>\n",
       "    .dataframe tbody tr th:only-of-type {\n",
       "        vertical-align: middle;\n",
       "    }\n",
       "\n",
       "    .dataframe tbody tr th {\n",
       "        vertical-align: top;\n",
       "    }\n",
       "\n",
       "    .dataframe thead th {\n",
       "        text-align: right;\n",
       "    }\n",
       "</style>\n",
       "<table border=\"1\" class=\"dataframe\">\n",
       "  <thead>\n",
       "    <tr style=\"text-align: right;\">\n",
       "      <th></th>\n",
       "      <th>uuid</th>\n",
       "      <th>created_at</th>\n",
       "      <th>trainer_item_id</th>\n",
       "      <th>prev_created_at</th>\n",
       "      <th>new_session</th>\n",
       "      <th>increment</th>\n",
       "      <th>session_id</th>\n",
       "      <th>date</th>\n",
       "      <th>test_group</th>\n",
       "    </tr>\n",
       "  </thead>\n",
       "  <tbody>\n",
       "    <tr>\n",
       "      <th>0</th>\n",
       "      <td>2990</td>\n",
       "      <td>2016-12-25 11:27:22.905</td>\n",
       "      <td>2</td>\n",
       "      <td>NaT</td>\n",
       "      <td>0</td>\n",
       "      <td>0</td>\n",
       "      <td>2990_0</td>\n",
       "      <td>2016-12-25</td>\n",
       "      <td>control</td>\n",
       "    </tr>\n",
       "    <tr>\n",
       "      <th>1</th>\n",
       "      <td>2990</td>\n",
       "      <td>2016-12-25 11:27:28.985</td>\n",
       "      <td>0</td>\n",
       "      <td>2016-12-25 11:27:22.905</td>\n",
       "      <td>0</td>\n",
       "      <td>0</td>\n",
       "      <td>2990_0</td>\n",
       "      <td>2016-12-25</td>\n",
       "      <td>control</td>\n",
       "    </tr>\n",
       "    <tr>\n",
       "      <th>2</th>\n",
       "      <td>2990</td>\n",
       "      <td>2016-12-25 11:27:33.603</td>\n",
       "      <td>3</td>\n",
       "      <td>2016-12-25 11:27:28.985</td>\n",
       "      <td>0</td>\n",
       "      <td>0</td>\n",
       "      <td>2990_0</td>\n",
       "      <td>2016-12-25</td>\n",
       "      <td>control</td>\n",
       "    </tr>\n",
       "    <tr>\n",
       "      <th>3</th>\n",
       "      <td>2990</td>\n",
       "      <td>2016-12-25 11:27:38.010</td>\n",
       "      <td>1</td>\n",
       "      <td>2016-12-25 11:27:33.603</td>\n",
       "      <td>0</td>\n",
       "      <td>0</td>\n",
       "      <td>2990_0</td>\n",
       "      <td>2016-12-25</td>\n",
       "      <td>control</td>\n",
       "    </tr>\n",
       "    <tr>\n",
       "      <th>4</th>\n",
       "      <td>2990</td>\n",
       "      <td>2016-12-28 09:40:57.271</td>\n",
       "      <td>604</td>\n",
       "      <td>2016-12-25 11:27:38.010</td>\n",
       "      <td>1</td>\n",
       "      <td>1</td>\n",
       "      <td>2990_1</td>\n",
       "      <td>2016-12-28</td>\n",
       "      <td>control</td>\n",
       "    </tr>\n",
       "  </tbody>\n",
       "</table>\n",
       "</div>"
      ],
      "text/plain": [
       "   uuid              created_at  trainer_item_id         prev_created_at  \\\n",
       "0  2990 2016-12-25 11:27:22.905                2                     NaT   \n",
       "1  2990 2016-12-25 11:27:28.985                0 2016-12-25 11:27:22.905   \n",
       "2  2990 2016-12-25 11:27:33.603                3 2016-12-25 11:27:28.985   \n",
       "3  2990 2016-12-25 11:27:38.010                1 2016-12-25 11:27:33.603   \n",
       "4  2990 2016-12-28 09:40:57.271              604 2016-12-25 11:27:38.010   \n",
       "\n",
       "   new_session  increment session_id        date test_group  \n",
       "0            0          0     2990_0  2016-12-25    control  \n",
       "1            0          0     2990_0  2016-12-25    control  \n",
       "2            0          0     2990_0  2016-12-25    control  \n",
       "3            0          0     2990_0  2016-12-25    control  \n",
       "4            1          1     2990_1  2016-12-28    control  "
      ]
     },
     "execution_count": 182,
     "metadata": {},
     "output_type": "execute_result"
    }
   ],
   "source": [
    "merged_df.head()"
   ]
  },
  {
   "cell_type": "code",
   "execution_count": 186,
   "metadata": {},
   "outputs": [],
   "source": [
    "total_sessions_per_user = merged_df.groupby(['test_group','uuid'])['session_id'].nunique()\n",
    "total_days_per_user = merged_df.groupby(['test_group','uuid'])['date'].nunique()"
   ]
  },
  {
   "cell_type": "code",
   "execution_count": 207,
   "metadata": {},
   "outputs": [],
   "source": [
    "avg_sessions_per_day = pd.DataFrame(total_sessions_per_user/total_days_per_user).reset_index()"
   ]
  },
  {
   "cell_type": "code",
   "execution_count": 260,
   "metadata": {},
   "outputs": [],
   "source": [
    "control_group_proportion = avg_sessions_per_day[(avg_sessions_per_day[0]>1) & (avg_sessions_per_day['test_group'] == 'control')]['uuid'].count()/avg_sessions_per_day[avg_sessions_per_day['test_group'] == 'control']['uuid'].count()\n"
   ]
  },
  {
   "cell_type": "code",
   "execution_count": 261,
   "metadata": {},
   "outputs": [
    {
     "data": {
      "text/plain": [
       "0.1132513344163379"
      ]
     },
     "execution_count": 261,
     "metadata": {},
     "output_type": "execute_result"
    }
   ],
   "source": [
    "control_group_proportion"
   ]
  },
  {
   "cell_type": "code",
   "execution_count": 258,
   "metadata": {},
   "outputs": [],
   "source": [
    "test_group_proportion = avg_sessions_per_day[(avg_sessions_per_day[0]>1) & (avg_sessions_per_day['test_group'] == 'test')]['uuid'].count()/avg_sessions_per_day[avg_sessions_per_day['test_group'] == 'test']['uuid'].count()\n"
   ]
  },
  {
   "cell_type": "code",
   "execution_count": 259,
   "metadata": {},
   "outputs": [
    {
     "data": {
      "text/plain": [
       "0.11884438608010506"
      ]
     },
     "execution_count": 259,
     "metadata": {},
     "output_type": "execute_result"
    }
   ],
   "source": [
    "test_group_proportion"
   ]
  },
  {
   "cell_type": "code",
   "execution_count": 268,
   "metadata": {},
   "outputs": [],
   "source": [
    "session_length_df = pd.DataFrame(session_length).reset_index()\n",
    "session_length_df['uuid'] = session_length_df['session_id'].apply(lambda x: x.split('_')[0]).astype(int)\n",
    "session_length_df = session_length_df.merge(test_groups, on='uuid')"
   ]
  },
  {
   "cell_type": "code",
   "execution_count": 269,
   "metadata": {},
   "outputs": [
    {
     "data": {
      "text/plain": [
       "test_group\n",
       "control    422\n",
       "test       414\n",
       "Name: session_length, dtype: int64"
      ]
     },
     "execution_count": 269,
     "metadata": {},
     "output_type": "execute_result"
    }
   ],
   "source": [
    "session_length_df['session_length'] = session_length_df['created_at'].dt.seconds\n",
    "session_length_df.groupby('test_group')['session_length'].median()"
   ]
  },
  {
   "cell_type": "code",
   "execution_count": 304,
   "metadata": {},
   "outputs": [
    {
     "data": {
      "text/html": [
       "<div>\n",
       "<style scoped>\n",
       "    .dataframe tbody tr th:only-of-type {\n",
       "        vertical-align: middle;\n",
       "    }\n",
       "\n",
       "    .dataframe tbody tr th {\n",
       "        vertical-align: top;\n",
       "    }\n",
       "\n",
       "    .dataframe thead th {\n",
       "        text-align: right;\n",
       "    }\n",
       "</style>\n",
       "<table border=\"1\" class=\"dataframe\">\n",
       "  <thead>\n",
       "    <tr style=\"text-align: right;\">\n",
       "      <th></th>\n",
       "      <th>session_id</th>\n",
       "      <th>created_at</th>\n",
       "      <th>uuid</th>\n",
       "      <th>test_group</th>\n",
       "      <th>session_length</th>\n",
       "    </tr>\n",
       "    <tr>\n",
       "      <th>test_group</th>\n",
       "      <th></th>\n",
       "      <th></th>\n",
       "      <th></th>\n",
       "      <th></th>\n",
       "      <th></th>\n",
       "    </tr>\n",
       "  </thead>\n",
       "  <tbody>\n",
       "    <tr>\n",
       "      <th>control</th>\n",
       "      <td>14201</td>\n",
       "      <td>13832</td>\n",
       "      <td>4309</td>\n",
       "      <td>1</td>\n",
       "      <td>3102</td>\n",
       "    </tr>\n",
       "    <tr>\n",
       "      <th>test</th>\n",
       "      <td>9730</td>\n",
       "      <td>9479</td>\n",
       "      <td>3046</td>\n",
       "      <td>1</td>\n",
       "      <td>2672</td>\n",
       "    </tr>\n",
       "  </tbody>\n",
       "</table>\n",
       "</div>"
      ],
      "text/plain": [
       "            session_id  created_at  uuid  test_group  session_length\n",
       "test_group                                                          \n",
       "control          14201       13832  4309           1            3102\n",
       "test              9730        9479  3046           1            2672"
      ]
     },
     "execution_count": 304,
     "metadata": {},
     "output_type": "execute_result"
    }
   ],
   "source": [
    "session_length_df.groupby('test_group').nunique()"
   ]
  },
  {
   "cell_type": "markdown",
   "metadata": {},
   "source": [
    "## 3a. Is there a difference between the experiment groups in any of the two activity metrics?"
   ]
  },
  {
   "cell_type": "code",
   "execution_count": 295,
   "metadata": {},
   "outputs": [],
   "source": [
    "def get_pvalue(con_conv, test_conv, con_size, test_size):\n",
    "    lift = -abs(test_conv - con_conv)\n",
    "    \n",
    "    scale_one = con_conv * (1-con_conv) * (1/ con_size)\n",
    "    scale_two = test_conv * (1-test_conv) * (1/ test_size)\n",
    "    scale_val = (scale_one + scale_two) ** 0.5\n",
    "    \n",
    "    p_value = 2 * stats.norm.cdf(lift, loc=0, scale = scale_val)  \n",
    "    return p_value"
   ]
  },
  {
   "cell_type": "code",
   "execution_count": 299,
   "metadata": {},
   "outputs": [
    {
     "data": {
      "text/plain": [
       "0.46148601597730854"
      ]
     },
     "execution_count": 299,
     "metadata": {},
     "output_type": "execute_result"
    }
   ],
   "source": [
    "# multiple sessions p-value\n",
    "con_conv = 0.1132513344163379\n",
    "test_conv = 0.11884438608010506\n",
    "con_size = 4309\n",
    "test_size = 3046\n",
    "get_pvalue(con_conv,test_conv,con_size,test_size)"
   ]
  },
  {
   "cell_type": "code",
   "execution_count": 285,
   "metadata": {},
   "outputs": [
    {
     "data": {
      "text/plain": [
       "<matplotlib.legend.Legend at 0x2488c4860>"
      ]
     },
     "execution_count": 285,
     "metadata": {},
     "output_type": "execute_result"
    },
    {
     "data": {
      "image/png": "[encoded data removed]",
      "text/plain": [
       "<Figure size 432x288 with 1 Axes>"
      ]
     },
     "metadata": {
      "needs_background": "light"
     },
     "output_type": "display_data"
    }
   ],
   "source": [
    "# comparison plot of the distributions of session length of both control and test group\n",
    "fig, ax = plt.subplots()\n",
    "sns.distplot(session_length_df[session_length_df['test_group']=='control']['session_length'], ax=ax, label='Control')\n",
    "sns.distplot(session_length_df[session_length_df['test_group']=='test']['session_length'], ax=ax, label='Test')\n",
    "ax.set_xlim([0, 4000])\n",
    "ax.set_yticks([])\n",
    "plt.legend()"
   ]
  },
  {
   "cell_type": "code",
   "execution_count": 305,
   "metadata": {},
   "outputs": [
    {
     "name": "stdout",
     "output_type": "stream",
     "text": [
      "Statistics=68928962.000, p=0.381\n",
      "Same distribution (fail to reject H0)\n"
     ]
    }
   ],
   "source": [
    "# since we are using the median and the distribution is not normal, Mann Whitney U test \n",
    "# is a better choice of measurement for median time per session differences\n",
    "from scipy.stats import mannwhitneyu\n",
    "\n",
    "test = session_length_df[session_length_df['test_group']=='test']['created_at'].dt.seconds\n",
    "control = session_length_df[session_length_df['test_group']=='control']['created_at'].dt.seconds\n",
    "# compare samples\n",
    "stat, p = mannwhitneyu(control, test)\n",
    "print('Statistics=%.3f, p=%.3f' % (stat, p))\n",
    "# interpret\n",
    "alpha = 0.05\n",
    "if p > alpha:\n",
    "\tprint('Same distribution (fail to reject H0)')\n",
    "else:\n",
    "\tprint('Different distribution (reject H0)')"
   ]
  },
  {
   "cell_type": "markdown",
   "metadata": {},
   "source": [
    "## 3b. If there is a difference, how big is it?"
   ]
  },
  {
   "cell_type": "markdown",
   "metadata": {},
   "source": [
    "There is no statistical significant difference between both groups averages on both sessions and users statistics."
   ]
  },
  {
   "cell_type": "markdown",
   "metadata": {},
   "source": [
    "## 3c. What would you recommend the Product Manager to do next?"
   ]
  },
  {
   "cell_type": "markdown",
   "metadata": {},
   "source": [
    "I'd recommend him to not make the change since there's no proven benefit in either statistics we tracked so unless there's any other metric of business relevance, he should try another iteration."
   ]
  }
 ],
 "metadata": {
  "kernelspec": {
   "display_name": "Python 3",
   "language": "python",
   "name": "python3"
  },
  "language_info": {
   "codemirror_mode": {
    "name": "ipython",
    "version": 3
   },
   "file_extension": ".py",
   "mimetype": "text/x-python",
   "name": "python",
   "nbconvert_exporter": "python",
   "pygments_lexer": "ipython3",
   "version": "3.7.2"
  }
 },
 "nbformat": 4,
 "nbformat_minor": 2
}
