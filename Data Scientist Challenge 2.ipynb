{
 "cells": [
  {
   "cell_type": "code",
   "execution_count": 1,
   "metadata": {
    "colab": {},
    "colab_type": "code",
    "id": "Xg-JMDIv79IX"
   },
   "outputs": [],
   "source": [
    "import numpy as np\n",
    "import sklearn.datasets\n",
    "import sklearn.linear_model\n",
    "import sklearn.metrics"
   ]
  },
  {
   "cell_type": "code",
   "execution_count": 2,
   "metadata": {
    "colab": {},
    "colab_type": "code",
    "id": "68T6rhEf8Hlj"
   },
   "outputs": [],
   "source": [
    "np.random.seed(42)  # do not change for reproducibility"
   ]
  },
  {
   "cell_type": "markdown",
   "metadata": {
    "colab_type": "text",
    "id": "iz5eO1879xIe"
   },
   "source": [
    "In this test we use the [Covertype Data Set](http://archive.ics.uci.edu/ml/datasets/Covertype), a dataset describing cartographic \n",
    "features of areas of land in the USA and also its forest type according to the US Forest Service. \n",
    "There are seven classes (1-7), 581012 samples and 54 features.\n",
    "For this test, we're only interested in cover type 3.\n",
    "\n",
    "\n"
   ]
  },
  {
   "cell_type": "code",
   "execution_count": 3,
   "metadata": {
    "colab": {
     "base_uri": "https://localhost:8080/",
     "height": 34
    },
    "colab_type": "code",
    "executionInfo": {
     "elapsed": 90883,
     "status": "ok",
     "timestamp": 1559039114962,
     "user": {
      "displayName": "Arindam Ghosh",
      "photoUrl": "https://lh4.googleusercontent.com/-PrLBBJ3qgcs/AAAAAAAAAAI/AAAAAAAAAIU/4cxv8KGTys8/s64/photo.jpg",
      "userId": "08766308862476346438"
     },
     "user_tz": -120
    },
    "id": "cG8T67QL92T9",
    "outputId": "b436a3ec-53e5-4ae5-f5f7-abec9da4f1ef"
   },
   "outputs": [
    {
     "name": "stderr",
     "output_type": "stream",
     "text": [
      "Downloading https://ndownloader.figshare.com/files/5976039\n"
     ]
    }
   ],
   "source": [
    "dataset = sklearn.datasets.fetch_covtype()"
   ]
  },
  {
   "cell_type": "code",
   "execution_count": 4,
   "metadata": {
    "colab": {},
    "colab_type": "code",
    "id": "gCScXzzy95ui"
   },
   "outputs": [],
   "source": [
    "# only use a random subset for speed - pretend the rest of the data doesn't exist\n",
    "random_sample = np.random.choice(len(dataset.data), len(dataset.data) // 10)\n",
    "\n",
    "COVER_TYPE = 3\n",
    "features = dataset.data[random_sample, :]\n",
    "target = dataset.target[random_sample] == COVER_TYPE"
   ]
  },
  {
   "cell_type": "markdown",
   "metadata": {
    "colab_type": "text",
    "id": "Zmlgj_j49-jy"
   },
   "source": [
    "A junior colleague tells you that they're getting 96% accuracy using logistic regression. You review their work and see the following:"
   ]
  },
  {
   "cell_type": "code",
   "execution_count": 15,
   "metadata": {
    "colab": {},
    "colab_type": "code",
    "id": "N3VlK7hu-B0u"
   },
   "outputs": [],
   "source": [
    "classifier = sklearn.linear_model.LogisticRegression(solver='liblinear')\n",
    "classifier.fit(features,  target)\n",
    "training_predictions = classifier.predict(features)\n",
    "accuracy = sklearn.metrics.accuracy_score(training_predictions, target)"
   ]
  },
  {
   "cell_type": "code",
   "execution_count": 17,
   "metadata": {
    "colab": {
     "base_uri": "https://localhost:8080/",
     "height": 34
    },
    "colab_type": "code",
    "executionInfo": {
     "elapsed": 54067,
     "status": "ok",
     "timestamp": 1559039116904,
     "user": {
      "displayName": "Arindam Ghosh",
      "photoUrl": "https://lh4.googleusercontent.com/-PrLBBJ3qgcs/AAAAAAAAAAI/AAAAAAAAAIU/4cxv8KGTys8/s64/photo.jpg",
      "userId": "08766308862476346438"
     },
     "user_tz": -120
    },
    "id": "VFTSg5We-CLq",
    "outputId": "cfbde9fa-3333-4e2f-b195-241046c5b6d6"
   },
   "outputs": [
    {
     "name": "stdout",
     "output_type": "stream",
     "text": [
      "Accuracy: 0.959\n"
     ]
    }
   ],
   "source": [
    "print(f'Accuracy: {accuracy:.3f}')"
   ]
  },
  {
   "cell_type": "markdown",
   "metadata": {
    "colab_type": "text",
    "id": "xGb4NGs9-Giy"
   },
   "source": [
    "**Question 1**\n",
    "\n",
    "Evaluate the accuracy more thoroughly. Do not modify the parameters of the model. Use the classifier object."
   ]
  },
  {
   "cell_type": "code",
   "execution_count": 29,
   "metadata": {
    "colab": {},
    "colab_type": "code",
    "id": "NT_g-LWp-IbR"
   },
   "outputs": [
    {
     "data": {
      "text/plain": [
       "array([[53713,  1540],\n",
       "       [  847,  2001]])"
      ]
     },
     "execution_count": 29,
     "metadata": {},
     "output_type": "execute_result"
    }
   ],
   "source": [
    "sklearn.metrics.confusion_matrix(training_predictions, target)"
   ]
  },
  {
   "cell_type": "code",
   "execution_count": 30,
   "metadata": {},
   "outputs": [
    {
     "data": {
      "text/plain": [
       "0.5650946060434905"
      ]
     },
     "execution_count": 30,
     "metadata": {},
     "output_type": "execute_result"
    }
   ],
   "source": [
    "sklearn.metrics.precision_score(training_predictions, target)"
   ]
  },
  {
   "cell_type": "code",
   "execution_count": 34,
   "metadata": {},
   "outputs": [
    {
     "data": {
      "text/plain": [
       "0.7025983146067416"
      ]
     },
     "execution_count": 34,
     "metadata": {},
     "output_type": "execute_result"
    }
   ],
   "source": [
    "sklearn.metrics.recall_score(training_predictions, target)"
   ]
  },
  {
   "cell_type": "code",
   "execution_count": 36,
   "metadata": {},
   "outputs": [
    {
     "data": {
      "text/plain": [
       "0.6263891062764125"
      ]
     },
     "execution_count": 36,
     "metadata": {},
     "output_type": "execute_result"
    }
   ],
   "source": [
    "sklearn.metrics.f1_score(training_predictions, target)"
   ]
  },
  {
   "cell_type": "markdown",
   "metadata": {
    "colab_type": "text",
    "id": "adxM-Wcl-Mm-"
   },
   "source": [
    "**Question 2**\n",
    "\n",
    "Is accuracy the most suitable metric for this problem?"
   ]
  },
  {
   "cell_type": "markdown",
   "metadata": {
    "colab": {},
    "colab_type": "code",
    "id": "_HTXyqgD-QQv"
   },
   "source": [
    "No, since the classes are imbalanced and there's much more negative cases, the Precision-Recall curve metric would be a more appropriate metric, which accounts both returning accurate results and returning the majority of all positive results, as well as being more sensitive to the positive class."
   ]
  },
  {
   "cell_type": "markdown",
   "metadata": {
    "colab_type": "text",
    "id": "d5mfuCfx-UKx"
   },
   "source": [
    "**Question 3**\n",
    "\n",
    "Should you get more training data?"
   ]
  },
  {
   "cell_type": "markdown",
   "metadata": {
    "colab": {},
    "colab_type": "code",
    "id": "rl6M5-5H-VJ2"
   },
   "source": [
    "The classes are imbalanced so we should get more samples of the imbalanced classes (over-sampling) or, in alternative, we can remove some observations from the over represented class (under-sampling), which probably is not the best option since our dataset is relatively small overall."
   ]
  },
  {
   "cell_type": "markdown",
   "metadata": {
    "colab_type": "text",
    "id": "JuuuRgp_-Znz"
   },
   "source": [
    "**Question 4**\n",
    "\n",
    "How would you decide which features to include in the deployed model?"
   ]
  },
  {
   "cell_type": "markdown",
   "metadata": {
    "colab": {},
    "colab_type": "code",
    "id": "mEeujeNN-cWG"
   },
   "source": [
    "A possibility of feature selection would be to perform univariate selection, selecting the features with the strongest relationships with the target variable. The SKLearn library provides `SelectKBest()` which could be used in this case to select the $k$ best features."
   ]
  }
 ],
 "metadata": {
  "colab": {
   "name": "Copy of Oviva_DataScience.ipynb",
   "provenance": [
    {
     "file_id": "1nXzhjNwXnt27P0nO8WgQLsPuB_EvjEAv",
     "timestamp": 1559039183188
    }
   ],
   "version": "0.3.2"
  },
  "kernelspec": {
   "display_name": "Python 3",
   "language": "python",
   "name": "python3"
  },
  "language_info": {
   "codemirror_mode": {
    "name": "ipython",
    "version": 3
   },
   "file_extension": ".py",
   "mimetype": "text/x-python",
   "name": "python",
   "nbconvert_exporter": "python",
   "pygments_lexer": "ipython3",
   "version": "3.7.2"
  }
 },
 "nbformat": 4,
 "nbformat_minor": 1
}
