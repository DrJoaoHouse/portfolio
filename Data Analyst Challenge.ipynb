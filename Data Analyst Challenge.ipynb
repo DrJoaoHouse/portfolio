{
 "cells": [
  {
   "cell_type": "markdown",
   "metadata": {},
   "source": [
    "Practical Test:\n",
    "Please find data set attached.\n",
    "\n",
    "Info about data:\n",
    "A customer has a specific acquisition date for when his first subscription started\n",
    "\n",
    "Every month, a new subscription is generated if the customer did not cancel\n",
    "\n",
    "Subscriptions are always from day X in month 1 to day (X-1) in following month\n",
    "\n",
    "Tasks for Practical Test:\n",
    "\n",
    "What can you say about the data set?\n",
    "\n",
    "Analyze the data provided. Compile KPI reports such as Cohort Retention, Profit Contribution etc.\n",
    "\n",
    "Interpret your results and draw conclusions for the business.\n",
    "\n",
    "Which additional data points would you like to look at for better analysis and conclusions? Prioritize them."
   ]
  },
  {
   "cell_type": "code",
   "execution_count": 108,
   "metadata": {},
   "outputs": [],
   "source": [
    "import pandas as pd\n",
    "import matplotlib.pyplot as plt\n",
    "import seaborn as sns\n",
    "import plotly.offline as py\n",
    "import numpy as np\n",
    "\n",
    "sns.set(style='white')\n",
    "\n",
    "%matplotlib inline"
   ]
  },
  {
   "cell_type": "code",
   "execution_count": 2,
   "metadata": {},
   "outputs": [],
   "source": [
    "data = pd.read_excel('/Users/joaosantos/Downloads/USC BI Test case - Data Set.xlsx')"
   ]
  },
  {
   "cell_type": "code",
   "execution_count": 9,
   "metadata": {},
   "outputs": [
    {
     "data": {
      "text/html": [
       "<div>\n",
       "<style scoped>\n",
       "    .dataframe tbody tr th:only-of-type {\n",
       "        vertical-align: middle;\n",
       "    }\n",
       "\n",
       "    .dataframe tbody tr th {\n",
       "        vertical-align: top;\n",
       "    }\n",
       "\n",
       "    .dataframe thead th {\n",
       "        text-align: right;\n",
       "    }\n",
       "</style>\n",
       "<table border=\"1\" class=\"dataframe\">\n",
       "  <thead>\n",
       "    <tr style=\"text-align: right;\">\n",
       "      <th></th>\n",
       "      <th>Customer ID</th>\n",
       "      <th>country</th>\n",
       "      <th>Product type</th>\n",
       "      <th>full product price</th>\n",
       "      <th>Acquisition_date</th>\n",
       "      <th>Marketing Channel</th>\n",
       "      <th>Subscription Date</th>\n",
       "      <th>Revenue</th>\n",
       "      <th>Cost</th>\n",
       "    </tr>\n",
       "  </thead>\n",
       "  <tbody>\n",
       "    <tr>\n",
       "      <th>0</th>\n",
       "      <td>2.0</td>\n",
       "      <td>Country 1</td>\n",
       "      <td>product_4</td>\n",
       "      <td>39</td>\n",
       "      <td>2015-01-02</td>\n",
       "      <td>Channel 1</td>\n",
       "      <td>2015-01-02</td>\n",
       "      <td>34.3</td>\n",
       "      <td>37.86</td>\n",
       "    </tr>\n",
       "    <tr>\n",
       "      <th>1</th>\n",
       "      <td>3.0</td>\n",
       "      <td>Country 1</td>\n",
       "      <td>product_4</td>\n",
       "      <td>39</td>\n",
       "      <td>2015-01-13</td>\n",
       "      <td>Channel 1</td>\n",
       "      <td>2015-01-13</td>\n",
       "      <td>39.0</td>\n",
       "      <td>8.00</td>\n",
       "    </tr>\n",
       "    <tr>\n",
       "      <th>2</th>\n",
       "      <td>4.0</td>\n",
       "      <td>Country 1</td>\n",
       "      <td>product_4</td>\n",
       "      <td>39</td>\n",
       "      <td>2015-01-21</td>\n",
       "      <td>Channel 1</td>\n",
       "      <td>2015-01-21</td>\n",
       "      <td>31.2</td>\n",
       "      <td>7.50</td>\n",
       "    </tr>\n",
       "    <tr>\n",
       "      <th>3</th>\n",
       "      <td>5.0</td>\n",
       "      <td>Country 1</td>\n",
       "      <td>product_4</td>\n",
       "      <td>39</td>\n",
       "      <td>2015-01-21</td>\n",
       "      <td>Channel 1</td>\n",
       "      <td>2015-01-21</td>\n",
       "      <td>31.2</td>\n",
       "      <td>29.06</td>\n",
       "    </tr>\n",
       "    <tr>\n",
       "      <th>4</th>\n",
       "      <td>6.0</td>\n",
       "      <td>Country 1</td>\n",
       "      <td>product_4</td>\n",
       "      <td>39</td>\n",
       "      <td>2015-01-21</td>\n",
       "      <td>Channel 1</td>\n",
       "      <td>2015-01-21</td>\n",
       "      <td>31.2</td>\n",
       "      <td>15.00</td>\n",
       "    </tr>\n",
       "  </tbody>\n",
       "</table>\n",
       "</div>"
      ],
      "text/plain": [
       "   Customer ID    country Product type  full product price Acquisition_date Marketing Channel Subscription Date  Revenue   Cost\n",
       "0          2.0  Country 1    product_4                  39       2015-01-02         Channel 1        2015-01-02     34.3  37.86\n",
       "1          3.0  Country 1    product_4                  39       2015-01-13         Channel 1        2015-01-13     39.0   8.00\n",
       "2          4.0  Country 1    product_4                  39       2015-01-21         Channel 1        2015-01-21     31.2   7.50\n",
       "3          5.0  Country 1    product_4                  39       2015-01-21         Channel 1        2015-01-21     31.2  29.06\n",
       "4          6.0  Country 1    product_4                  39       2015-01-21         Channel 1        2015-01-21     31.2  15.00"
      ]
     },
     "execution_count": 9,
     "metadata": {},
     "output_type": "execute_result"
    }
   ],
   "source": [
    "data.head()"
   ]
  },
  {
   "cell_type": "code",
   "execution_count": 12,
   "metadata": {},
   "outputs": [
    {
     "name": "stdout",
     "output_type": "stream",
     "text": [
      "<class 'pandas.core.frame.DataFrame'>\n",
      "RangeIndex: 29619 entries, 0 to 29618\n",
      "Data columns (total 9 columns):\n",
      "Customer id           29213 non-null float64\n",
      "Country               29619 non-null object\n",
      "Product type          29619 non-null object\n",
      "Full product price    29619 non-null int64\n",
      "Acquisition_date      28191 non-null datetime64[ns]\n",
      "Marketing channel     29619 non-null object\n",
      "Subscription date     28191 non-null datetime64[ns]\n",
      "Revenue               29619 non-null float64\n",
      "Cost                  29619 non-null float64\n",
      "dtypes: datetime64[ns](2), float64(3), int64(1), object(3)\n",
      "memory usage: 2.0+ MB\n"
     ]
    }
   ],
   "source": [
    "data.info()"
   ]
  },
  {
   "cell_type": "code",
   "execution_count": 10,
   "metadata": {},
   "outputs": [],
   "source": [
    "#Make columns names uniform\n",
    "data.columns = data.columns.str.capitalize()"
   ]
  },
  {
   "cell_type": "code",
   "execution_count": 52,
   "metadata": {},
   "outputs": [],
   "source": [
    "#Remove duplicates\n",
    "data.drop_duplicates(inplace=True)"
   ]
  },
  {
   "cell_type": "code",
   "execution_count": 509,
   "metadata": {},
   "outputs": [
    {
     "data": {
      "text/html": [
       "<div>\n",
       "<style scoped>\n",
       "    .dataframe tbody tr th:only-of-type {\n",
       "        vertical-align: middle;\n",
       "    }\n",
       "\n",
       "    .dataframe tbody tr th {\n",
       "        vertical-align: top;\n",
       "    }\n",
       "\n",
       "    .dataframe thead th {\n",
       "        text-align: right;\n",
       "    }\n",
       "</style>\n",
       "<table border=\"1\" class=\"dataframe\">\n",
       "  <thead>\n",
       "    <tr style=\"text-align: right;\">\n",
       "      <th></th>\n",
       "      <th>Customer id</th>\n",
       "      <th>Country</th>\n",
       "      <th>Product type</th>\n",
       "      <th>Full product price</th>\n",
       "      <th>Acquisition_date</th>\n",
       "      <th>Marketing channel</th>\n",
       "      <th>Subscription date</th>\n",
       "      <th>Revenue</th>\n",
       "      <th>Cost</th>\n",
       "    </tr>\n",
       "  </thead>\n",
       "  <tbody>\n",
       "    <tr>\n",
       "      <th>0</th>\n",
       "      <td>2.0</td>\n",
       "      <td>Country 1</td>\n",
       "      <td>product_4</td>\n",
       "      <td>39</td>\n",
       "      <td>2015-01-02</td>\n",
       "      <td>Channel 1</td>\n",
       "      <td>2015-01-02</td>\n",
       "      <td>34.3</td>\n",
       "      <td>37.86</td>\n",
       "    </tr>\n",
       "    <tr>\n",
       "      <th>1</th>\n",
       "      <td>3.0</td>\n",
       "      <td>Country 1</td>\n",
       "      <td>product_4</td>\n",
       "      <td>39</td>\n",
       "      <td>2015-01-13</td>\n",
       "      <td>Channel 1</td>\n",
       "      <td>2015-01-13</td>\n",
       "      <td>39.0</td>\n",
       "      <td>8.00</td>\n",
       "    </tr>\n",
       "    <tr>\n",
       "      <th>2</th>\n",
       "      <td>4.0</td>\n",
       "      <td>Country 1</td>\n",
       "      <td>product_4</td>\n",
       "      <td>39</td>\n",
       "      <td>2015-01-21</td>\n",
       "      <td>Channel 1</td>\n",
       "      <td>2015-01-21</td>\n",
       "      <td>31.2</td>\n",
       "      <td>7.50</td>\n",
       "    </tr>\n",
       "    <tr>\n",
       "      <th>3</th>\n",
       "      <td>5.0</td>\n",
       "      <td>Country 1</td>\n",
       "      <td>product_4</td>\n",
       "      <td>39</td>\n",
       "      <td>2015-01-21</td>\n",
       "      <td>Channel 1</td>\n",
       "      <td>2015-01-21</td>\n",
       "      <td>31.2</td>\n",
       "      <td>29.06</td>\n",
       "    </tr>\n",
       "    <tr>\n",
       "      <th>4</th>\n",
       "      <td>6.0</td>\n",
       "      <td>Country 1</td>\n",
       "      <td>product_4</td>\n",
       "      <td>39</td>\n",
       "      <td>2015-01-21</td>\n",
       "      <td>Channel 1</td>\n",
       "      <td>2015-01-21</td>\n",
       "      <td>31.2</td>\n",
       "      <td>15.00</td>\n",
       "    </tr>\n",
       "  </tbody>\n",
       "</table>\n",
       "</div>"
      ],
      "text/plain": [
       "   Customer id    Country Product type  Full product price Acquisition_date Marketing channel Subscription date  Revenue   Cost\n",
       "0          2.0  Country 1    product_4                  39       2015-01-02         Channel 1        2015-01-02     34.3  37.86\n",
       "1          3.0  Country 1    product_4                  39       2015-01-13         Channel 1        2015-01-13     39.0   8.00\n",
       "2          4.0  Country 1    product_4                  39       2015-01-21         Channel 1        2015-01-21     31.2   7.50\n",
       "3          5.0  Country 1    product_4                  39       2015-01-21         Channel 1        2015-01-21     31.2  29.06\n",
       "4          6.0  Country 1    product_4                  39       2015-01-21         Channel 1        2015-01-21     31.2  15.00"
      ]
     },
     "execution_count": 509,
     "metadata": {},
     "output_type": "execute_result"
    }
   ],
   "source": [
    "data.loc[data['Country']=='Country 1',:].head()"
   ]
  },
  {
   "cell_type": "markdown",
   "metadata": {},
   "source": [
    "## Contribution Margin"
   ]
  },
  {
   "cell_type": "markdown",
   "metadata": {},
   "source": [
    "Price per unit - Cost per product = Contribution margin per unit aka profit per unit"
   ]
  },
  {
   "cell_type": "code",
   "execution_count": 410,
   "metadata": {},
   "outputs": [],
   "source": [
    "contribution_margin = data.copy(deep=False)"
   ]
  },
  {
   "cell_type": "code",
   "execution_count": 411,
   "metadata": {},
   "outputs": [],
   "source": [
    "contribution_margin_sum = contribution_margin.groupby('Product type')[['Revenue','Cost']].sum()\n",
    "contribution_margin_count = contribution_margin.groupby('Product type')[['Revenue']].count()\n",
    "contribution_margin = contribution_margin_sum.merge(contribution_margin_count,how='inner', left_index=True, right_index=True)\n"
   ]
  },
  {
   "cell_type": "code",
   "execution_count": 412,
   "metadata": {},
   "outputs": [],
   "source": [
    "contribution_margin['revenue_per_unit'] = contribution_margin['Revenue_x']/contribution_margin['Revenue_y']\n",
    "contribution_margin['cost_per_unit'] = contribution_margin['Cost']/contribution_margin['Revenue_y']\n",
    "contribution_margin['margin_per_unit'] = contribution_margin['revenue_per_unit']-contribution_margin['cost_per_unit']\n",
    "contribution_margin.rename(columns={'Revenue_x': 'total_revenue',\n",
    "                                   'Revenue_y': 'total_units',\n",
    "                                   'Cost': 'total_cost'}, inplace=True)"
   ]
  },
  {
   "cell_type": "code",
   "execution_count": 413,
   "metadata": {},
   "outputs": [
    {
     "data": {
      "text/html": [
       "<div>\n",
       "<style scoped>\n",
       "    .dataframe tbody tr th:only-of-type {\n",
       "        vertical-align: middle;\n",
       "    }\n",
       "\n",
       "    .dataframe tbody tr th {\n",
       "        vertical-align: top;\n",
       "    }\n",
       "\n",
       "    .dataframe thead th {\n",
       "        text-align: right;\n",
       "    }\n",
       "</style>\n",
       "<table border=\"1\" class=\"dataframe\">\n",
       "  <thead>\n",
       "    <tr style=\"text-align: right;\">\n",
       "      <th></th>\n",
       "      <th>total_revenue</th>\n",
       "      <th>total_cost</th>\n",
       "      <th>total_units</th>\n",
       "      <th>revenue_per_unit</th>\n",
       "      <th>cost_per_unit</th>\n",
       "      <th>margin_per_unit</th>\n",
       "    </tr>\n",
       "    <tr>\n",
       "      <th>Product type</th>\n",
       "      <th></th>\n",
       "      <th></th>\n",
       "      <th></th>\n",
       "      <th></th>\n",
       "      <th></th>\n",
       "      <th></th>\n",
       "    </tr>\n",
       "  </thead>\n",
       "  <tbody>\n",
       "    <tr>\n",
       "      <th>product_1</th>\n",
       "      <td>859206.98</td>\n",
       "      <td>869640.92</td>\n",
       "      <td>14444</td>\n",
       "      <td>59.485390</td>\n",
       "      <td>60.207762</td>\n",
       "      <td>-0.722372</td>\n",
       "    </tr>\n",
       "    <tr>\n",
       "      <th>product_3</th>\n",
       "      <td>160250.67</td>\n",
       "      <td>162124.10</td>\n",
       "      <td>2184</td>\n",
       "      <td>73.374849</td>\n",
       "      <td>74.232647</td>\n",
       "      <td>-0.857798</td>\n",
       "    </tr>\n",
       "    <tr>\n",
       "      <th>product_4</th>\n",
       "      <td>329509.78</td>\n",
       "      <td>333229.27</td>\n",
       "      <td>12986</td>\n",
       "      <td>25.374232</td>\n",
       "      <td>25.660655</td>\n",
       "      <td>-0.286423</td>\n",
       "    </tr>\n",
       "  </tbody>\n",
       "</table>\n",
       "</div>"
      ],
      "text/plain": [
       "              total_revenue  total_cost  total_units  revenue_per_unit  cost_per_unit  margin_per_unit\n",
       "Product type                                                                                          \n",
       "product_1         859206.98   869640.92        14444         59.485390      60.207762        -0.722372\n",
       "product_3         160250.67   162124.10         2184         73.374849      74.232647        -0.857798\n",
       "product_4         329509.78   333229.27        12986         25.374232      25.660655        -0.286423"
      ]
     },
     "execution_count": 413,
     "metadata": {},
     "output_type": "execute_result"
    }
   ],
   "source": [
    "contribution_margin\n"
   ]
  },
  {
   "cell_type": "markdown",
   "metadata": {},
   "source": [
    "## Cohort Retention Analysis"
   ]
  },
  {
   "cell_type": "code",
   "execution_count": 95,
   "metadata": {},
   "outputs": [],
   "source": [
    "cohort_df = data.copy(deep=False) \n",
    "cohort_df.dropna(inplace=True)\n",
    "cohort_df['Cohort_customer'] = cohort_df['Acquisition_date'].apply(lambda x: x.strftime('%Y-%m'))\n",
    "cohort_df['Cohort_subscription'] = cohort_df['Subscription date'].apply(lambda x: x.strftime('%Y-%m'))"
   ]
  },
  {
   "cell_type": "code",
   "execution_count": 96,
   "metadata": {},
   "outputs": [
    {
     "data": {
      "text/html": [
       "<div>\n",
       "<style scoped>\n",
       "    .dataframe tbody tr th:only-of-type {\n",
       "        vertical-align: middle;\n",
       "    }\n",
       "\n",
       "    .dataframe tbody tr th {\n",
       "        vertical-align: top;\n",
       "    }\n",
       "\n",
       "    .dataframe thead th {\n",
       "        text-align: right;\n",
       "    }\n",
       "</style>\n",
       "<table border=\"1\" class=\"dataframe\">\n",
       "  <thead>\n",
       "    <tr style=\"text-align: right;\">\n",
       "      <th></th>\n",
       "      <th>Customer id</th>\n",
       "      <th>Country</th>\n",
       "      <th>Product type</th>\n",
       "      <th>Full product price</th>\n",
       "      <th>Acquisition_date</th>\n",
       "      <th>Marketing channel</th>\n",
       "      <th>Subscription date</th>\n",
       "      <th>Revenue</th>\n",
       "      <th>Cost</th>\n",
       "      <th>Cohort_customer</th>\n",
       "      <th>Cohort_subscription</th>\n",
       "    </tr>\n",
       "  </thead>\n",
       "  <tbody>\n",
       "    <tr>\n",
       "      <th>0</th>\n",
       "      <td>2.0</td>\n",
       "      <td>Country 1</td>\n",
       "      <td>product_4</td>\n",
       "      <td>39</td>\n",
       "      <td>2015-01-02</td>\n",
       "      <td>Channel 1</td>\n",
       "      <td>2015-01-02</td>\n",
       "      <td>34.30</td>\n",
       "      <td>37.86</td>\n",
       "      <td>2015-01</td>\n",
       "      <td>2015-01</td>\n",
       "    </tr>\n",
       "    <tr>\n",
       "      <th>6593</th>\n",
       "      <td>2.0</td>\n",
       "      <td>Country 1</td>\n",
       "      <td>product_4</td>\n",
       "      <td>39</td>\n",
       "      <td>2015-01-02</td>\n",
       "      <td>Channel 1</td>\n",
       "      <td>2015-04-02</td>\n",
       "      <td>1.23</td>\n",
       "      <td>1.01</td>\n",
       "      <td>2015-01</td>\n",
       "      <td>2015-04</td>\n",
       "    </tr>\n",
       "    <tr>\n",
       "      <th>6594</th>\n",
       "      <td>2.0</td>\n",
       "      <td>Country 1</td>\n",
       "      <td>product_4</td>\n",
       "      <td>39</td>\n",
       "      <td>2015-01-02</td>\n",
       "      <td>Channel 1</td>\n",
       "      <td>2015-05-02</td>\n",
       "      <td>18.76</td>\n",
       "      <td>20.48</td>\n",
       "      <td>2015-01</td>\n",
       "      <td>2015-05</td>\n",
       "    </tr>\n",
       "    <tr>\n",
       "      <th>6595</th>\n",
       "      <td>2.0</td>\n",
       "      <td>Country 1</td>\n",
       "      <td>product_4</td>\n",
       "      <td>39</td>\n",
       "      <td>2015-01-02</td>\n",
       "      <td>Channel 1</td>\n",
       "      <td>2015-06-02</td>\n",
       "      <td>35.30</td>\n",
       "      <td>23.97</td>\n",
       "      <td>2015-01</td>\n",
       "      <td>2015-06</td>\n",
       "    </tr>\n",
       "    <tr>\n",
       "      <th>6596</th>\n",
       "      <td>2.0</td>\n",
       "      <td>Country 1</td>\n",
       "      <td>product_4</td>\n",
       "      <td>39</td>\n",
       "      <td>2015-01-02</td>\n",
       "      <td>Channel 1</td>\n",
       "      <td>2015-07-02</td>\n",
       "      <td>26.54</td>\n",
       "      <td>22.85</td>\n",
       "      <td>2015-01</td>\n",
       "      <td>2015-07</td>\n",
       "    </tr>\n",
       "  </tbody>\n",
       "</table>\n",
       "</div>"
      ],
      "text/plain": [
       "      Customer id    Country Product type  Full product price Acquisition_date Marketing channel Subscription date  Revenue   Cost Cohort_customer Cohort_subscription\n",
       "0             2.0  Country 1    product_4                  39       2015-01-02         Channel 1        2015-01-02    34.30  37.86         2015-01             2015-01\n",
       "6593          2.0  Country 1    product_4                  39       2015-01-02         Channel 1        2015-04-02     1.23   1.01         2015-01             2015-04\n",
       "6594          2.0  Country 1    product_4                  39       2015-01-02         Channel 1        2015-05-02    18.76  20.48         2015-01             2015-05\n",
       "6595          2.0  Country 1    product_4                  39       2015-01-02         Channel 1        2015-06-02    35.30  23.97         2015-01             2015-06\n",
       "6596          2.0  Country 1    product_4                  39       2015-01-02         Channel 1        2015-07-02    26.54  22.85         2015-01             2015-07"
      ]
     },
     "execution_count": 96,
     "metadata": {},
     "output_type": "execute_result"
    }
   ],
   "source": [
    "cohort_df.sort_values('Customer id').head()#.groupby('Cohort_period').count()"
   ]
  },
  {
   "cell_type": "code",
   "execution_count": 97,
   "metadata": {},
   "outputs": [],
   "source": [
    "cohorts_group = cohort_df.groupby(['Cohort_customer','Cohort_subscription'])"
   ]
  },
  {
   "cell_type": "code",
   "execution_count": 98,
   "metadata": {},
   "outputs": [],
   "source": [
    "cohorts = cohorts_group.agg({'Customer id': pd.Series.nunique,\n",
    "                            'Cost': np.sum,\n",
    "                            'Revenue': np.sum}\n",
    "                           ).rename(columns={'Customer id': 'Total_Customers',\n",
    "                                            'Cost': 'Total_Cost',\n",
    "                                            'Revenue': 'Total_Revenue'})"
   ]
  },
  {
   "cell_type": "code",
   "execution_count": 99,
   "metadata": {},
   "outputs": [],
   "source": [
    "cohorts['contribution_margin'] = cohorts['Total_Revenue'] - cohorts['Total_Cost']"
   ]
  },
  {
   "cell_type": "code",
   "execution_count": 101,
   "metadata": {},
   "outputs": [],
   "source": [
    "def cohort_period(df):\n",
    "    df['CohortPeriod'] = np.arange(len(df)) + 1\n",
    "    return df\n",
    "\n",
    "cohorts = cohorts.groupby(level=0).apply(cohort_period)"
   ]
  },
  {
   "cell_type": "code",
   "execution_count": 81,
   "metadata": {},
   "outputs": [
    {
     "data": {
      "text/html": [
       "<div>\n",
       "<style scoped>\n",
       "    .dataframe tbody tr th:only-of-type {\n",
       "        vertical-align: middle;\n",
       "    }\n",
       "\n",
       "    .dataframe tbody tr th {\n",
       "        vertical-align: top;\n",
       "    }\n",
       "\n",
       "    .dataframe thead th {\n",
       "        text-align: right;\n",
       "    }\n",
       "</style>\n",
       "<table border=\"1\" class=\"dataframe\">\n",
       "  <thead>\n",
       "    <tr style=\"text-align: right;\">\n",
       "      <th></th>\n",
       "      <th></th>\n",
       "      <th>Total_Subscriptions</th>\n",
       "      <th>Total_Cost</th>\n",
       "      <th>Total_Revenue</th>\n",
       "      <th>contribution_margin</th>\n",
       "      <th>CohortPeriod</th>\n",
       "    </tr>\n",
       "    <tr>\n",
       "      <th>Cohort_customer</th>\n",
       "      <th>Cohort_subscription</th>\n",
       "      <th></th>\n",
       "      <th></th>\n",
       "      <th></th>\n",
       "      <th></th>\n",
       "      <th></th>\n",
       "    </tr>\n",
       "  </thead>\n",
       "  <tbody>\n",
       "    <tr>\n",
       "      <th rowspan=\"5\" valign=\"top\">2015-01</th>\n",
       "      <th>2015-01</th>\n",
       "      <td>141</td>\n",
       "      <td>4745.92</td>\n",
       "      <td>6008.53</td>\n",
       "      <td>1262.61</td>\n",
       "      <td>1</td>\n",
       "    </tr>\n",
       "    <tr>\n",
       "      <th>2015-02</th>\n",
       "      <td>111</td>\n",
       "      <td>3788.23</td>\n",
       "      <td>4889.99</td>\n",
       "      <td>1101.76</td>\n",
       "      <td>2</td>\n",
       "    </tr>\n",
       "    <tr>\n",
       "      <th>2015-03</th>\n",
       "      <td>171</td>\n",
       "      <td>6758.37</td>\n",
       "      <td>7440.63</td>\n",
       "      <td>682.26</td>\n",
       "      <td>3</td>\n",
       "    </tr>\n",
       "    <tr>\n",
       "      <th>2015-04</th>\n",
       "      <td>117</td>\n",
       "      <td>4753.05</td>\n",
       "      <td>5022.11</td>\n",
       "      <td>269.06</td>\n",
       "      <td>4</td>\n",
       "    </tr>\n",
       "    <tr>\n",
       "      <th>2015-05</th>\n",
       "      <td>165</td>\n",
       "      <td>6434.42</td>\n",
       "      <td>7206.60</td>\n",
       "      <td>772.18</td>\n",
       "      <td>5</td>\n",
       "    </tr>\n",
       "  </tbody>\n",
       "</table>\n",
       "</div>"
      ],
      "text/plain": [
       "                                     Total_Subscriptions  Total_Cost  Total_Revenue  contribution_margin  CohortPeriod\n",
       "Cohort_customer Cohort_subscription                                                                                   \n",
       "2015-01         2015-01                              141     4745.92        6008.53              1262.61             1\n",
       "                2015-02                              111     3788.23        4889.99              1101.76             2\n",
       "                2015-03                              171     6758.37        7440.63               682.26             3\n",
       "                2015-04                              117     4753.05        5022.11               269.06             4\n",
       "                2015-05                              165     6434.42        7206.60               772.18             5"
      ]
     },
     "execution_count": 81,
     "metadata": {},
     "output_type": "execute_result"
    }
   ],
   "source": [
    "cohorts.head()"
   ]
  },
  {
   "cell_type": "code",
   "execution_count": 102,
   "metadata": {},
   "outputs": [],
   "source": [
    "# reindex the DataFrame\n",
    "cohorts.reset_index(inplace=True)\n",
    "cohorts.set_index(['Cohort_customer', 'CohortPeriod'], inplace=True)\n",
    "\n",
    "# create a Series holding the total size of each CohortGroup\n",
    "cohort_group_size = cohorts['Total_Customers'].groupby(level=0).first()\n"
   ]
  },
  {
   "cell_type": "code",
   "execution_count": 103,
   "metadata": {},
   "outputs": [
    {
     "data": {
      "text/plain": [
       "Cohort_customer\n",
       "2015-01    141.0\n",
       "2015-02     80.0\n",
       "2015-03    147.0\n",
       "2015-04     61.0\n",
       "2015-05     93.0\n",
       "Name: Total_Customers, dtype: float64"
      ]
     },
     "execution_count": 103,
     "metadata": {},
     "output_type": "execute_result"
    }
   ],
   "source": [
    "cohort_group_size.head()"
   ]
  },
  {
   "cell_type": "code",
   "execution_count": 104,
   "metadata": {},
   "outputs": [],
   "source": [
    "user_retention = cohorts['Total_Customers'].unstack(0).divide(cohort_group_size, axis=1)\n"
   ]
  },
  {
   "cell_type": "code",
   "execution_count": 105,
   "metadata": {},
   "outputs": [],
   "source": [
    "user_retention.fillna(0,inplace=True)"
   ]
  },
  {
   "cell_type": "code",
   "execution_count": 106,
   "metadata": {},
   "outputs": [
    {
     "data": {
      "image/png": "[encoded data removed]",
      "text/plain": [
       "<Figure size 720x360 with 1 Axes>"
      ]
     },
     "metadata": {},
     "output_type": "display_data"
    }
   ],
   "source": [
    "user_retention.plot(figsize=(10,5))\n",
    "plt.title('Cohorts: User Retention')\n",
    "plt.xticks(np.arange(1, 20, 1))\n",
    "plt.xlim(1, 20)\n",
    "plt.ylabel('% of Cohort Purchasing');"
   ]
  },
  {
   "cell_type": "markdown",
   "metadata": {},
   "source": [
    "### Churn Rate"
   ]
  },
  {
   "cell_type": "code",
   "execution_count": 112,
   "metadata": {},
   "outputs": [
    {
     "data": {
      "image/png": "[encoded data removed]",
      "text/plain": [
       "<Figure size 864x576 with 2 Axes>"
      ]
     },
     "metadata": {},
     "output_type": "display_data"
    }
   ],
   "source": [
    "plt.figure(figsize=(12, 8))\n",
    "plt.title('Cohorts: User Retention/Churn Rate')\n",
    "sns.heatmap(user_retention.T, annot=True, fmt='.0%');"
   ]
  },
  {
   "cell_type": "markdown",
   "metadata": {},
   "source": [
    "From this heatmap you can clearly see that the most recent cohorts have a much more accelerated churn rate than the beginning of 2015 Cohorts that have a much smoother churn rate, especially the last 6 months of 2015."
   ]
  },
  {
   "cell_type": "markdown",
   "metadata": {},
   "source": [
    "## Sales Growth"
   ]
  },
  {
   "cell_type": "markdown",
   "metadata": {},
   "source": [
    "[(Sales for the current period - Sales for the previous period) / Sales for the previous period] x 100"
   ]
  },
  {
   "cell_type": "code",
   "execution_count": 118,
   "metadata": {},
   "outputs": [
    {
     "data": {
      "text/plain": [
       "Month\n",
       "2015-01     141\n",
       "2015-02     191\n",
       "2015-03     368\n",
       "2015-04     388\n",
       "2015-05     522\n",
       "2015-06     972\n",
       "2015-07    1574\n",
       "2015-08    2257\n",
       "2015-09    2770\n",
       "2015-10    3006\n",
       "2015-11    2819\n",
       "2015-12    2811\n",
       "2016-01    3176\n",
       "2016-02    3473\n",
       "2016-03    3359\n",
       "Name: Customer id, dtype: int64"
      ]
     },
     "execution_count": 118,
     "metadata": {},
     "output_type": "execute_result"
    }
   ],
   "source": [
    "sales_growth = data.copy(deep=False)\n",
    "sales_growth.dropna(inplace=True)\n",
    "sales_growth['Month'] = sales_growth['Subscription date'].apply(lambda x: x.strftime('%Y-%m'))"
   ]
  },
  {
   "cell_type": "code",
   "execution_count": 141,
   "metadata": {},
   "outputs": [],
   "source": [
    "sales_current_period = sales_growth.groupby('Month')['Customer id'].nunique().rename(columns={'Customer id': 'sales_current_period'})\n",
    "sales_previous_period = sales_growth.groupby('Month')['Customer id'].nunique().shift(1)"
   ]
  },
  {
   "cell_type": "code",
   "execution_count": 142,
   "metadata": {},
   "outputs": [],
   "source": [
    "sales_growth_df = pd.concat([sales_current_period,sales_previous_period], axis=1).rename(columns={0: 'sales_current_period','Customer id': 'sales_last_period'})"
   ]
  },
  {
   "cell_type": "code",
   "execution_count": 144,
   "metadata": {},
   "outputs": [],
   "source": [
    "sales_growth_df['sales_growth'] = (sales_growth_df['sales_current_period'] - sales_growth_df['sales_last_period'])/sales_growth_df['sales_last_period']*100"
   ]
  },
  {
   "cell_type": "code",
   "execution_count": 145,
   "metadata": {},
   "outputs": [
    {
     "data": {
      "text/html": [
       "<div>\n",
       "<style scoped>\n",
       "    .dataframe tbody tr th:only-of-type {\n",
       "        vertical-align: middle;\n",
       "    }\n",
       "\n",
       "    .dataframe tbody tr th {\n",
       "        vertical-align: top;\n",
       "    }\n",
       "\n",
       "    .dataframe thead th {\n",
       "        text-align: right;\n",
       "    }\n",
       "</style>\n",
       "<table border=\"1\" class=\"dataframe\">\n",
       "  <thead>\n",
       "    <tr style=\"text-align: right;\">\n",
       "      <th></th>\n",
       "      <th>sales_current_period</th>\n",
       "      <th>sales_last_period</th>\n",
       "      <th>sales_growth</th>\n",
       "    </tr>\n",
       "    <tr>\n",
       "      <th>Month</th>\n",
       "      <th></th>\n",
       "      <th></th>\n",
       "      <th></th>\n",
       "    </tr>\n",
       "  </thead>\n",
       "  <tbody>\n",
       "    <tr>\n",
       "      <th>2015-01</th>\n",
       "      <td>141</td>\n",
       "      <td>NaN</td>\n",
       "      <td>NaN</td>\n",
       "    </tr>\n",
       "    <tr>\n",
       "      <th>2015-02</th>\n",
       "      <td>191</td>\n",
       "      <td>141.0</td>\n",
       "      <td>35.460993</td>\n",
       "    </tr>\n",
       "    <tr>\n",
       "      <th>2015-03</th>\n",
       "      <td>368</td>\n",
       "      <td>191.0</td>\n",
       "      <td>92.670157</td>\n",
       "    </tr>\n",
       "    <tr>\n",
       "      <th>2015-04</th>\n",
       "      <td>388</td>\n",
       "      <td>368.0</td>\n",
       "      <td>5.434783</td>\n",
       "    </tr>\n",
       "    <tr>\n",
       "      <th>2015-05</th>\n",
       "      <td>522</td>\n",
       "      <td>388.0</td>\n",
       "      <td>34.536082</td>\n",
       "    </tr>\n",
       "    <tr>\n",
       "      <th>2015-06</th>\n",
       "      <td>972</td>\n",
       "      <td>522.0</td>\n",
       "      <td>86.206897</td>\n",
       "    </tr>\n",
       "    <tr>\n",
       "      <th>2015-07</th>\n",
       "      <td>1574</td>\n",
       "      <td>972.0</td>\n",
       "      <td>61.934156</td>\n",
       "    </tr>\n",
       "    <tr>\n",
       "      <th>2015-08</th>\n",
       "      <td>2257</td>\n",
       "      <td>1574.0</td>\n",
       "      <td>43.392630</td>\n",
       "    </tr>\n",
       "    <tr>\n",
       "      <th>2015-09</th>\n",
       "      <td>2770</td>\n",
       "      <td>2257.0</td>\n",
       "      <td>22.729287</td>\n",
       "    </tr>\n",
       "    <tr>\n",
       "      <th>2015-10</th>\n",
       "      <td>3006</td>\n",
       "      <td>2770.0</td>\n",
       "      <td>8.519856</td>\n",
       "    </tr>\n",
       "    <tr>\n",
       "      <th>2015-11</th>\n",
       "      <td>2819</td>\n",
       "      <td>3006.0</td>\n",
       "      <td>-6.220892</td>\n",
       "    </tr>\n",
       "    <tr>\n",
       "      <th>2015-12</th>\n",
       "      <td>2811</td>\n",
       "      <td>2819.0</td>\n",
       "      <td>-0.283789</td>\n",
       "    </tr>\n",
       "    <tr>\n",
       "      <th>2016-01</th>\n",
       "      <td>3176</td>\n",
       "      <td>2811.0</td>\n",
       "      <td>12.984703</td>\n",
       "    </tr>\n",
       "    <tr>\n",
       "      <th>2016-02</th>\n",
       "      <td>3473</td>\n",
       "      <td>3176.0</td>\n",
       "      <td>9.351385</td>\n",
       "    </tr>\n",
       "    <tr>\n",
       "      <th>2016-03</th>\n",
       "      <td>3359</td>\n",
       "      <td>3473.0</td>\n",
       "      <td>-3.282465</td>\n",
       "    </tr>\n",
       "  </tbody>\n",
       "</table>\n",
       "</div>"
      ],
      "text/plain": [
       "         sales_current_period  sales_last_period  sales_growth\n",
       "Month                                                         \n",
       "2015-01                   141                NaN           NaN\n",
       "2015-02                   191              141.0     35.460993\n",
       "2015-03                   368              191.0     92.670157\n",
       "2015-04                   388              368.0      5.434783\n",
       "2015-05                   522              388.0     34.536082\n",
       "2015-06                   972              522.0     86.206897\n",
       "2015-07                  1574              972.0     61.934156\n",
       "2015-08                  2257             1574.0     43.392630\n",
       "2015-09                  2770             2257.0     22.729287\n",
       "2015-10                  3006             2770.0      8.519856\n",
       "2015-11                  2819             3006.0     -6.220892\n",
       "2015-12                  2811             2819.0     -0.283789\n",
       "2016-01                  3176             2811.0     12.984703\n",
       "2016-02                  3473             3176.0      9.351385\n",
       "2016-03                  3359             3473.0     -3.282465"
      ]
     },
     "execution_count": 145,
     "metadata": {},
     "output_type": "execute_result"
    }
   ],
   "source": [
    "sales_growth_df"
   ]
  },
  {
   "cell_type": "markdown",
   "metadata": {},
   "source": [
    "#check if the sum revenue stagnated at some point and we stop providing revenue at higher rates"
   ]
  },
  {
   "cell_type": "markdown",
   "metadata": {},
   "source": [
    "## Product Performance\n",
    "Rank products based on revenue performance."
   ]
  },
  {
   "cell_type": "code",
   "execution_count": 153,
   "metadata": {},
   "outputs": [],
   "source": [
    "#Pie chart with Revenue, Subscriptions sold"
   ]
  },
  {
   "cell_type": "code",
   "execution_count": 155,
   "metadata": {},
   "outputs": [],
   "source": [
    "product_performance = data.copy(deep=False)"
   ]
  },
  {
   "cell_type": "code",
   "execution_count": 158,
   "metadata": {},
   "outputs": [],
   "source": [
    "product_performance = product_performance.groupby('Product type')[['Revenue','Cost']].sum()"
   ]
  },
  {
   "cell_type": "code",
   "execution_count": 161,
   "metadata": {},
   "outputs": [],
   "source": [
    "product_performance.reset_index(inplace=True)"
   ]
  },
  {
   "cell_type": "code",
   "execution_count": 174,
   "metadata": {},
   "outputs": [
    {
     "data": {
      "text/plain": [
       "Text(-0.14,-0.06,'Cost %')"
      ]
     },
     "execution_count": 174,
     "metadata": {},
     "output_type": "execute_result"
    },
    {
     "data": {
      "image/png": "[encoded data removed]",
      "text/plain": [
       "<Figure size 936x936 with 1 Axes>"
      ]
     },
     "metadata": {},
     "output_type": "display_data"
    }
   ],
   "source": [
    "#plot nested pie chart with clicks per user by channel\n",
    "fig, ax = plt.subplots(figsize=(13,13))\n",
    "labels1 = list(product_performance['Product type'])\n",
    "labels2 = list(product_performance['Product type'])\n",
    "size = 0.3\n",
    "colors = ['yellowgreen', 'gold', 'lightskyblue', 'lightcoral']\n",
    "\n",
    "ax.pie(product_performance['Revenue'], radius=1,textprops={'fontsize': 22}, \n",
    "       shadow=False, labels=labels1, labeldistance=0.75, colors=colors, wedgeprops=dict(width=size, edgecolor='w'),\n",
    "#        autopct=lambda x: '{:.2f}'.format(x * channel_ROI['ROI'].sum() / 100), \n",
    "       autopct='%.1f%%',pctdistance=1.1)\n",
    "ax.pie(product_performance['Cost'], radius=1-size, textprops={'fontsize': 18}, labels=labels2, \n",
    "       shadow=False, rotatelabels=0, labeldistance=0.65, colors=colors, wedgeprops=dict(width=size, edgecolor='w'), \n",
    "       autopct='%.1f%%', pctdistance=0.45)\n",
    "ax.set_title('''Revenue by Product''', fontsize=20, fontstyle='oblique', fontweight='bold', position=(0.5,0.92))\n",
    "ax.annotate('''Cost %''', fontsize=20, fontstyle='oblique', fontweight='bold', xy=(-0.14,-0.06))"
   ]
  },
  {
   "cell_type": "markdown",
   "metadata": {},
   "source": [
    "### Selling Costs to Sales Ratio"
   ]
  },
  {
   "cell_type": "code",
   "execution_count": 178,
   "metadata": {},
   "outputs": [],
   "source": [
    "product_performance['cost_to_sales_ratio'] = product_performance['Cost']/product_performance['Revenue']*100"
   ]
  },
  {
   "cell_type": "code",
   "execution_count": 179,
   "metadata": {},
   "outputs": [
    {
     "data": {
      "text/html": [
       "<div>\n",
       "<style scoped>\n",
       "    .dataframe tbody tr th:only-of-type {\n",
       "        vertical-align: middle;\n",
       "    }\n",
       "\n",
       "    .dataframe tbody tr th {\n",
       "        vertical-align: top;\n",
       "    }\n",
       "\n",
       "    .dataframe thead th {\n",
       "        text-align: right;\n",
       "    }\n",
       "</style>\n",
       "<table border=\"1\" class=\"dataframe\">\n",
       "  <thead>\n",
       "    <tr style=\"text-align: right;\">\n",
       "      <th></th>\n",
       "      <th>Product type</th>\n",
       "      <th>Revenue</th>\n",
       "      <th>Cost</th>\n",
       "      <th>cost_to_sales_ratio</th>\n",
       "    </tr>\n",
       "  </thead>\n",
       "  <tbody>\n",
       "    <tr>\n",
       "      <th>0</th>\n",
       "      <td>product_1</td>\n",
       "      <td>859206.98</td>\n",
       "      <td>869640.92</td>\n",
       "      <td>101.214369</td>\n",
       "    </tr>\n",
       "    <tr>\n",
       "      <th>1</th>\n",
       "      <td>product_3</td>\n",
       "      <td>160250.67</td>\n",
       "      <td>162124.10</td>\n",
       "      <td>101.169062</td>\n",
       "    </tr>\n",
       "    <tr>\n",
       "      <th>2</th>\n",
       "      <td>product_4</td>\n",
       "      <td>329509.78</td>\n",
       "      <td>333229.27</td>\n",
       "      <td>101.128795</td>\n",
       "    </tr>\n",
       "  </tbody>\n",
       "</table>\n",
       "</div>"
      ],
      "text/plain": [
       "  Product type    Revenue       Cost  cost_to_sales_ratio\n",
       "0    product_1  859206.98  869640.92           101.214369\n",
       "1    product_3  160250.67  162124.10           101.169062\n",
       "2    product_4  329509.78  333229.27           101.128795"
      ]
     },
     "execution_count": 179,
     "metadata": {},
     "output_type": "execute_result"
    }
   ],
   "source": [
    "product_performance"
   ]
  },
  {
   "cell_type": "markdown",
   "metadata": {},
   "source": [
    "Cost of selling / Total value of sales"
   ]
  },
  {
   "cell_type": "code",
   "execution_count": 184,
   "metadata": {},
   "outputs": [
    {
     "data": {
      "text/plain": [
       "<matplotlib.axes._subplots.AxesSubplot at 0x1a22af21d0>"
      ]
     },
     "execution_count": 184,
     "metadata": {},
     "output_type": "execute_result"
    },
    {
     "data": {
      "image/png": "[encoded data removed]",
      "text/plain": [
       "<Figure size 432x288 with 1 Axes>"
      ]
     },
     "metadata": {},
     "output_type": "display_data"
    }
   ],
   "source": [
    "product_performance.set_index('Product type')[['Revenue','Cost']].plot(kind='bar', stacked=True)"
   ]
  },
  {
   "cell_type": "markdown",
   "metadata": {},
   "source": [
    "## Customer Acquisition"
   ]
  },
  {
   "cell_type": "markdown",
   "metadata": {},
   "source": [
    "(New customers added in a time period / Total customers in a time period) x 100"
   ]
  },
  {
   "cell_type": "code",
   "execution_count": 266,
   "metadata": {},
   "outputs": [],
   "source": [
    "customer_acquisition = data.copy(deep=False)\n",
    "customer_acquisition.dropna(inplace=True)\n",
    "customer_acquisition['Month'] = customer_acquisition['Subscription date'].apply(lambda x: x.strftime('%Y-%m'))\n"
   ]
  },
  {
   "cell_type": "code",
   "execution_count": 267,
   "metadata": {},
   "outputs": [],
   "source": [
    "acquisitions = {month:customer_acquisition[['Month','Customer id']][customer_acquisition['Month'] == month] for month in customer_acquisition['Month'].unique()}\n"
   ]
  },
  {
   "cell_type": "code",
   "execution_count": 268,
   "metadata": {},
   "outputs": [],
   "source": [
    "next_month = list(reversed(sorted(customer_acquisition['Month'].unique())[:-1]))\n",
    "this_month = list(reversed(sorted(customer_acquisition['Month'].unique())[1:]))\n",
    "for i in range(customer_acquisition['Month'].nunique()-1):\n",
    "    acquisitions[next_month[i]] = acquisitions[next_month[i]][\n",
    "    ~acquisitions[next_month[i]]['Customer id'].isin(acquisitions[this_month[i]]['Customer id'])]"
   ]
  },
  {
   "cell_type": "code",
   "execution_count": 269,
   "metadata": {},
   "outputs": [],
   "source": [
    "for month in customer_acquisition['Month'].unique():\n",
    "    acquisitions[month] = acquisitions[month].groupby('Month').nunique()"
   ]
  },
  {
   "cell_type": "code",
   "execution_count": 271,
   "metadata": {},
   "outputs": [],
   "source": [
    "new_acquisitions = pd.concat([acquisitions[row].iloc[:,1:] for row in acquisitions], axis=0)"
   ]
  },
  {
   "cell_type": "code",
   "execution_count": 287,
   "metadata": {},
   "outputs": [
    {
     "data": {
      "text/html": [
       "<div>\n",
       "<style scoped>\n",
       "    .dataframe tbody tr th:only-of-type {\n",
       "        vertical-align: middle;\n",
       "    }\n",
       "\n",
       "    .dataframe tbody tr th {\n",
       "        vertical-align: top;\n",
       "    }\n",
       "\n",
       "    .dataframe thead th {\n",
       "        text-align: right;\n",
       "    }\n",
       "</style>\n",
       "<table border=\"1\" class=\"dataframe\">\n",
       "  <thead>\n",
       "    <tr style=\"text-align: right;\">\n",
       "      <th></th>\n",
       "      <th>Customer id</th>\n",
       "    </tr>\n",
       "    <tr>\n",
       "      <th>Month</th>\n",
       "      <th></th>\n",
       "    </tr>\n",
       "  </thead>\n",
       "  <tbody>\n",
       "    <tr>\n",
       "      <th>2015-01</th>\n",
       "      <td>73</td>\n",
       "    </tr>\n",
       "    <tr>\n",
       "      <th>2015-02</th>\n",
       "      <td>122</td>\n",
       "    </tr>\n",
       "    <tr>\n",
       "      <th>2015-03</th>\n",
       "      <td>161</td>\n",
       "    </tr>\n",
       "    <tr>\n",
       "      <th>2015-04</th>\n",
       "      <td>243</td>\n",
       "    </tr>\n",
       "    <tr>\n",
       "      <th>2015-05</th>\n",
       "      <td>224</td>\n",
       "    </tr>\n",
       "    <tr>\n",
       "      <th>2015-06</th>\n",
       "      <td>460</td>\n",
       "    </tr>\n",
       "    <tr>\n",
       "      <th>2015-07</th>\n",
       "      <td>765</td>\n",
       "    </tr>\n",
       "    <tr>\n",
       "      <th>2015-08</th>\n",
       "      <td>1243</td>\n",
       "    </tr>\n",
       "    <tr>\n",
       "      <th>2015-09</th>\n",
       "      <td>1558</td>\n",
       "    </tr>\n",
       "    <tr>\n",
       "      <th>2015-10</th>\n",
       "      <td>1634</td>\n",
       "    </tr>\n",
       "    <tr>\n",
       "      <th>2015-11</th>\n",
       "      <td>1734</td>\n",
       "    </tr>\n",
       "    <tr>\n",
       "      <th>2015-12</th>\n",
       "      <td>1263</td>\n",
       "    </tr>\n",
       "    <tr>\n",
       "      <th>2016-01</th>\n",
       "      <td>2062</td>\n",
       "    </tr>\n",
       "    <tr>\n",
       "      <th>2016-02</th>\n",
       "      <td>1290</td>\n",
       "    </tr>\n",
       "    <tr>\n",
       "      <th>2016-03</th>\n",
       "      <td>3359</td>\n",
       "    </tr>\n",
       "  </tbody>\n",
       "</table>\n",
       "</div>"
      ],
      "text/plain": [
       "         Customer id\n",
       "Month               \n",
       "2015-01           73\n",
       "2015-02          122\n",
       "2015-03          161\n",
       "2015-04          243\n",
       "2015-05          224\n",
       "2015-06          460\n",
       "2015-07          765\n",
       "2015-08         1243\n",
       "2015-09         1558\n",
       "2015-10         1634\n",
       "2015-11         1734\n",
       "2015-12         1263\n",
       "2016-01         2062\n",
       "2016-02         1290\n",
       "2016-03         3359"
      ]
     },
     "execution_count": 287,
     "metadata": {},
     "output_type": "execute_result"
    }
   ],
   "source": [
    "new_acquisitions.sort_values('Month')"
   ]
  },
  {
   "cell_type": "markdown",
   "metadata": {},
   "source": [
    "## Repeat Purchase Volume"
   ]
  },
  {
   "cell_type": "markdown",
   "metadata": {},
   "source": [
    "Number of sales coming from repeat purchases"
   ]
  },
  {
   "cell_type": "code",
   "execution_count": 276,
   "metadata": {},
   "outputs": [],
   "source": [
    "repeated_customers = data.copy(deep=False)\n",
    "repeated_customers.dropna(inplace=True)\n",
    "repeated_customers['Month'] = repeated_customers['Subscription date'].apply(lambda x: x.strftime('%Y-%m'))"
   ]
  },
  {
   "cell_type": "code",
   "execution_count": 277,
   "metadata": {},
   "outputs": [],
   "source": [
    "repeated = {month: repeated_customers[['Month','Customer id']][repeated_customers['Month'] == month] for month in repeated_customers['Month'].unique()}\n"
   ]
  },
  {
   "cell_type": "code",
   "execution_count": 278,
   "metadata": {},
   "outputs": [],
   "source": [
    "next_month = list(reversed(sorted(repeated_customers['Month'].unique())[:-1]))\n",
    "this_month = list(reversed(sorted(repeated_customers['Month'].unique())[1:]))\n",
    "for i in range(repeated_customers['Month'].nunique()-1):\n",
    "    repeated[next_month[i]] = repeated[next_month[i]][\n",
    "    repeated[next_month[i]]['Customer id'].isin(repeated[this_month[i]]['Customer id'])]"
   ]
  },
  {
   "cell_type": "code",
   "execution_count": 279,
   "metadata": {},
   "outputs": [],
   "source": [
    "for month in repeated_customers['Month'].unique():\n",
    "    repeated[month] = repeated[month].groupby('Month').nunique()"
   ]
  },
  {
   "cell_type": "code",
   "execution_count": 283,
   "metadata": {},
   "outputs": [],
   "source": [
    "repeated_purchases = pd.concat([repeated[row].iloc[:,1:] for row in repeated], axis=0)"
   ]
  },
  {
   "cell_type": "code",
   "execution_count": 286,
   "metadata": {},
   "outputs": [
    {
     "data": {
      "text/html": [
       "<div>\n",
       "<style scoped>\n",
       "    .dataframe tbody tr th:only-of-type {\n",
       "        vertical-align: middle;\n",
       "    }\n",
       "\n",
       "    .dataframe tbody tr th {\n",
       "        vertical-align: top;\n",
       "    }\n",
       "\n",
       "    .dataframe thead th {\n",
       "        text-align: right;\n",
       "    }\n",
       "</style>\n",
       "<table border=\"1\" class=\"dataframe\">\n",
       "  <thead>\n",
       "    <tr style=\"text-align: right;\">\n",
       "      <th></th>\n",
       "      <th>Customer id</th>\n",
       "    </tr>\n",
       "    <tr>\n",
       "      <th>Month</th>\n",
       "      <th></th>\n",
       "    </tr>\n",
       "  </thead>\n",
       "  <tbody>\n",
       "    <tr>\n",
       "      <th>2015-01</th>\n",
       "      <td>30</td>\n",
       "    </tr>\n",
       "    <tr>\n",
       "      <th>2015-02</th>\n",
       "      <td>46</td>\n",
       "    </tr>\n",
       "    <tr>\n",
       "      <th>2015-03</th>\n",
       "      <td>74</td>\n",
       "    </tr>\n",
       "    <tr>\n",
       "      <th>2015-04</th>\n",
       "      <td>92</td>\n",
       "    </tr>\n",
       "    <tr>\n",
       "      <th>2015-05</th>\n",
       "      <td>110</td>\n",
       "    </tr>\n",
       "    <tr>\n",
       "      <th>2015-06</th>\n",
       "      <td>383</td>\n",
       "    </tr>\n",
       "    <tr>\n",
       "      <th>2015-07</th>\n",
       "      <td>545</td>\n",
       "    </tr>\n",
       "    <tr>\n",
       "      <th>2015-08</th>\n",
       "      <td>648</td>\n",
       "    </tr>\n",
       "    <tr>\n",
       "      <th>2015-09</th>\n",
       "      <td>804</td>\n",
       "    </tr>\n",
       "    <tr>\n",
       "      <th>2015-10</th>\n",
       "      <td>937</td>\n",
       "    </tr>\n",
       "    <tr>\n",
       "      <th>2015-11</th>\n",
       "      <td>1069</td>\n",
       "    </tr>\n",
       "    <tr>\n",
       "      <th>2015-12</th>\n",
       "      <td>1204</td>\n",
       "    </tr>\n",
       "    <tr>\n",
       "      <th>2016-01</th>\n",
       "      <td>1642</td>\n",
       "    </tr>\n",
       "    <tr>\n",
       "      <th>2016-02</th>\n",
       "      <td>2183</td>\n",
       "    </tr>\n",
       "    <tr>\n",
       "      <th>2016-03</th>\n",
       "      <td>3359</td>\n",
       "    </tr>\n",
       "  </tbody>\n",
       "</table>\n",
       "</div>"
      ],
      "text/plain": [
       "         Customer id\n",
       "Month               \n",
       "2015-01           30\n",
       "2015-02           46\n",
       "2015-03           74\n",
       "2015-04           92\n",
       "2015-05          110\n",
       "2015-06          383\n",
       "2015-07          545\n",
       "2015-08          648\n",
       "2015-09          804\n",
       "2015-10          937\n",
       "2015-11         1069\n",
       "2015-12         1204\n",
       "2016-01         1642\n",
       "2016-02         2183\n",
       "2016-03         3359"
      ]
     },
     "execution_count": 286,
     "metadata": {},
     "output_type": "execute_result"
    }
   ],
   "source": [
    "repeated_purchases.sort_values('Month')"
   ]
  },
  {
   "cell_type": "markdown",
   "metadata": {},
   "source": [
    "## Sales Growth by Market Channel"
   ]
  },
  {
   "cell_type": "markdown",
   "metadata": {},
   "source": [
    "[(Value of sales acquired in current period for a particular segment - Value of sales acquired in the previous period for the same segment) / Value of the sales acquired in the previous period for the same segment] x 100"
   ]
  },
  {
   "cell_type": "code",
   "execution_count": 372,
   "metadata": {},
   "outputs": [],
   "source": [
    "channel_growth = data.copy(deep=False)\n",
    "channel_growth.dropna(inplace=True)\n",
    "channel_growth['Month'] = channel_growth['Subscription date'].apply(lambda x: x.strftime('%Y-%m'))"
   ]
  },
  {
   "cell_type": "code",
   "execution_count": 373,
   "metadata": {},
   "outputs": [],
   "source": [
    "channel_growth = channel_growth.groupby(['Month','Marketing channel']).agg({'Revenue': np.sum})"
   ]
  },
  {
   "cell_type": "code",
   "execution_count": 378,
   "metadata": {},
   "outputs": [],
   "source": [
    "grouped = [channel_growth[channel_growth.index.get_level_values('Marketing channel').isin([group])].groupby(['Month','Marketing channel'])['Revenue'].sum().shift(1) for group in channel_growth.index.levels[1]]"
   ]
  },
  {
   "cell_type": "code",
   "execution_count": 379,
   "metadata": {},
   "outputs": [],
   "source": [
    "channel_growth = channel_growth.merge(right=pd.DataFrame(pd.concat(grouped)), how='left',left_index=True, right_index=True)\n"
   ]
  },
  {
   "cell_type": "code",
   "execution_count": 381,
   "metadata": {},
   "outputs": [],
   "source": [
    "channel_growth['channel_growth'] = (channel_growth['Revenue_x'] - channel_growth['Revenue_y'])/channel_growth['Revenue_y']*100"
   ]
  },
  {
   "cell_type": "code",
   "execution_count": 383,
   "metadata": {},
   "outputs": [
    {
     "data": {
      "text/html": [
       "<div>\n",
       "<style scoped>\n",
       "    .dataframe tbody tr th:only-of-type {\n",
       "        vertical-align: middle;\n",
       "    }\n",
       "\n",
       "    .dataframe tbody tr th {\n",
       "        vertical-align: top;\n",
       "    }\n",
       "\n",
       "    .dataframe thead th {\n",
       "        text-align: right;\n",
       "    }\n",
       "</style>\n",
       "<table border=\"1\" class=\"dataframe\">\n",
       "  <thead>\n",
       "    <tr style=\"text-align: right;\">\n",
       "      <th></th>\n",
       "      <th></th>\n",
       "      <th>Revenue_x</th>\n",
       "      <th>Revenue_y</th>\n",
       "      <th>channel_growth</th>\n",
       "    </tr>\n",
       "    <tr>\n",
       "      <th>Month</th>\n",
       "      <th>Marketing channel</th>\n",
       "      <th></th>\n",
       "      <th></th>\n",
       "      <th></th>\n",
       "    </tr>\n",
       "  </thead>\n",
       "  <tbody>\n",
       "    <tr>\n",
       "      <th rowspan=\"3\" valign=\"top\">2015-01</th>\n",
       "      <th>Channel 1</th>\n",
       "      <td>5925.51</td>\n",
       "      <td>NaN</td>\n",
       "      <td>NaN</td>\n",
       "    </tr>\n",
       "    <tr>\n",
       "      <th>Channel 3</th>\n",
       "      <td>55.20</td>\n",
       "      <td>NaN</td>\n",
       "      <td>NaN</td>\n",
       "    </tr>\n",
       "    <tr>\n",
       "      <th>Channel 5</th>\n",
       "      <td>27.82</td>\n",
       "      <td>NaN</td>\n",
       "      <td>NaN</td>\n",
       "    </tr>\n",
       "    <tr>\n",
       "      <th rowspan=\"2\" valign=\"top\">2015-02</th>\n",
       "      <th>Channel 1</th>\n",
       "      <td>8658.92</td>\n",
       "      <td>5925.51</td>\n",
       "      <td>46.129531</td>\n",
       "    </tr>\n",
       "    <tr>\n",
       "      <th>Channel 3</th>\n",
       "      <td>110.40</td>\n",
       "      <td>55.20</td>\n",
       "      <td>100.000000</td>\n",
       "    </tr>\n",
       "  </tbody>\n",
       "</table>\n",
       "</div>"
      ],
      "text/plain": [
       "                           Revenue_x  Revenue_y  channel_growth\n",
       "Month   Marketing channel                                      \n",
       "2015-01 Channel 1            5925.51        NaN             NaN\n",
       "        Channel 3              55.20        NaN             NaN\n",
       "        Channel 5              27.82        NaN             NaN\n",
       "2015-02 Channel 1            8658.92    5925.51       46.129531\n",
       "        Channel 3             110.40      55.20      100.000000"
      ]
     },
     "execution_count": 383,
     "metadata": {},
     "output_type": "execute_result"
    }
   ],
   "source": [
    "channel_growth.head()"
   ]
  },
  {
   "cell_type": "markdown",
   "metadata": {},
   "source": [
    "## Revenue Gained from Top Customers"
   ]
  },
  {
   "cell_type": "markdown",
   "metadata": {},
   "source": [
    "Revenue from top customer 1 + Revenue from top customer 2 + … + Revenue from top customer 10"
   ]
  },
  {
   "cell_type": "code",
   "execution_count": 421,
   "metadata": {},
   "outputs": [],
   "source": [
    "top_customers = data.groupby('Customer id')['Revenue'].sum().sort_values(ascending=False).head(10)"
   ]
  },
  {
   "cell_type": "code",
   "execution_count": 422,
   "metadata": {},
   "outputs": [
    {
     "data": {
      "text/plain": [
       "Customer id\n",
       "129.0     1371.20\n",
       "115.0     1365.60\n",
       "118.0     1354.54\n",
       "256.0     1343.60\n",
       "212.0     1326.60\n",
       "23.0      1326.60\n",
       "211.0     1306.80\n",
       "215.0     1293.40\n",
       "78.0      1286.64\n",
       "4035.0    1263.63\n",
       "Name: Revenue, dtype: float64"
      ]
     },
     "execution_count": 422,
     "metadata": {},
     "output_type": "execute_result"
    }
   ],
   "source": [
    "top_customers"
   ]
  },
  {
   "cell_type": "markdown",
   "metadata": {},
   "source": [
    "## Customer Lifetime Value (CLV or LTV)"
   ]
  },
  {
   "cell_type": "markdown",
   "metadata": {},
   "source": [
    "Lifetime Value = Gross Margin % X ( 1 / Monthly Churn ) X Avg. Monthly Subscription Revenue per Customer"
   ]
  },
  {
   "cell_type": "code",
   "execution_count": 500,
   "metadata": {},
   "outputs": [],
   "source": [
    "from lifetimes.utils import summary_data_from_transaction_data\n",
    "from lifetimes import GammaGammaFitter,BetaGeoFitter\n",
    "from lifetimes.plotting import plot_frequency_recency_matrix,plot_probability_alive_matrix"
   ]
  },
  {
   "cell_type": "code",
   "execution_count": 494,
   "metadata": {},
   "outputs": [],
   "source": [
    "clv = data.copy(deep=False)\n",
    "clv.dropna(inplace=True)\n",
    "clv['Month'] = clv['Subscription date'].apply(lambda x: x.strftime('%Y-%m'))"
   ]
  },
  {
   "cell_type": "code",
   "execution_count": 495,
   "metadata": {},
   "outputs": [],
   "source": [
    "#transform data into right CLV format\n",
    "clv_summary_data = summary_data_from_transaction_data(transactions=clv, \n",
    "                                                      customer_id_col='Customer id', \n",
    "                                                      datetime_col='Month', \n",
    "                                                      monetary_value_col='Revenue',\n",
    "                                                      observation_period_end=data['Subscription date'].max().strftime('%Y-%m'))"
   ]
  },
  {
   "cell_type": "code",
   "execution_count": 496,
   "metadata": {},
   "outputs": [],
   "source": [
    "#remove one time buyers and no revenue customers (perhaps gifted subscriptions)\n",
    "returning_customers_summary = clv_summary_data[(clv_summary_data['frequency']>0) | (clv_summary_data['monetary_value']>0)]"
   ]
  },
  {
   "cell_type": "code",
   "execution_count": 497,
   "metadata": {},
   "outputs": [
    {
     "data": {
      "text/html": [
       "<div>\n",
       "<style scoped>\n",
       "    .dataframe tbody tr th:only-of-type {\n",
       "        vertical-align: middle;\n",
       "    }\n",
       "\n",
       "    .dataframe tbody tr th {\n",
       "        vertical-align: top;\n",
       "    }\n",
       "\n",
       "    .dataframe thead th {\n",
       "        text-align: right;\n",
       "    }\n",
       "</style>\n",
       "<table border=\"1\" class=\"dataframe\">\n",
       "  <thead>\n",
       "    <tr style=\"text-align: right;\">\n",
       "      <th></th>\n",
       "      <th>frequency</th>\n",
       "      <th>monetary_value</th>\n",
       "    </tr>\n",
       "  </thead>\n",
       "  <tbody>\n",
       "    <tr>\n",
       "      <th>frequency</th>\n",
       "      <td>1.000000</td>\n",
       "      <td>-0.103761</td>\n",
       "    </tr>\n",
       "    <tr>\n",
       "      <th>monetary_value</th>\n",
       "      <td>-0.103761</td>\n",
       "      <td>1.000000</td>\n",
       "    </tr>\n",
       "  </tbody>\n",
       "</table>\n",
       "</div>"
      ],
      "text/plain": [
       "                frequency  monetary_value\n",
       "frequency        1.000000       -0.103761\n",
       "monetary_value  -0.103761        1.000000"
      ]
     },
     "execution_count": 497,
     "metadata": {},
     "output_type": "execute_result"
    }
   ],
   "source": [
    "#check monetary value and frequency independence\n",
    "returning_customers_summary[['frequency','monetary_value']].corr()"
   ]
  },
  {
   "cell_type": "code",
   "execution_count": 484,
   "metadata": {},
   "outputs": [
    {
     "name": "stdout",
     "output_type": "stream",
     "text": [
      "<lifetimes.GammaGammaFitter: fitted with 4733 subjects, p: 4.09, q: 4.09, v: 38.30>\n"
     ]
    }
   ],
   "source": [
    "#fitting the data\n",
    "ggf = GammaGammaFitter(penalizer_coef = 0)\n",
    "ggf.fit(returning_customers_summary['frequency'],\n",
    "        returning_customers_summary['monetary_value'])\n",
    "print(ggf)"
   ]
  },
  {
   "cell_type": "code",
   "execution_count": 487,
   "metadata": {},
   "outputs": [],
   "source": [
    "#estimating conditional expected avg profit\n",
    "avg_expected_profit = ggf.conditional_expected_average_profit(\n",
    "        clv_summary_data['frequency'],\n",
    "        clv_summary_data['monetary_value'])"
   ]
  },
  {
   "cell_type": "code",
   "execution_count": 492,
   "metadata": {},
   "outputs": [
    {
     "name": "stdout",
     "output_type": "stream",
     "text": [
      "Expected conditional average profit: 49.392897855965224\n",
      "Average Profit: 48.45054847919906\n"
     ]
    }
   ],
   "source": [
    "#expected average profit\n",
    "print(f'''Expected conditional average profit: {avg_expected_profit.mean()}\n",
    "Average Profit: {clv_summary_data[clv_summary_data['frequency']>0]['monetary_value'].mean()}''')"
   ]
  },
  {
   "cell_type": "code",
   "execution_count": 498,
   "metadata": {},
   "outputs": [
    {
     "name": "stdout",
     "output_type": "stream",
     "text": [
      "<lifetimes.BetaGeoFitter: fitted with 6900 subjects, a: 0.00, alpha: 123.21, b: 0.00, r: 2.55>\n"
     ]
    }
   ],
   "source": [
    "#similar API to scikit-learn and lifelines.\n",
    "bgf = BetaGeoFitter(penalizer_coef=0.0)\n",
    "bgf.fit(clv_summary_data['frequency'], clv_summary_data['recency'], clv_summary_data['T'])\n",
    "print(bgf)"
   ]
  },
  {
   "cell_type": "code",
   "execution_count": 505,
   "metadata": {},
   "outputs": [
    {
     "data": {
      "text/plain": [
       "<matplotlib.axes._subplots.AxesSubplot at 0x1a273f5eb8>"
      ]
     },
     "execution_count": 505,
     "metadata": {},
     "output_type": "execute_result"
    },
    {
     "data": {
      "image/png": "[encoded data removed]",
      "text/plain": [
       "<Figure size 1080x720 with 2 Axes>"
      ]
     },
     "metadata": {},
     "output_type": "display_data"
    }
   ],
   "source": [
    "#expected number of future of purchases\n",
    "plt.figure(figsize=(15,10))\n",
    "plot_frequency_recency_matrix(bgf, T=30)"
   ]
  },
  {
   "cell_type": "code",
   "execution_count": 507,
   "metadata": {},
   "outputs": [
    {
     "data": {
      "text/plain": [
       "<matplotlib.axes._subplots.AxesSubplot at 0x1a22142dd8>"
      ]
     },
     "execution_count": 507,
     "metadata": {},
     "output_type": "execute_result"
    },
    {
     "data": {
      "image/png": "[encoded data removed]",
      "text/plain": [
       "<Figure size 1080x720 with 2 Axes>"
      ]
     },
     "metadata": {},
     "output_type": "display_data"
    }
   ],
   "source": [
    "#probability customer is still \"alive\"\n",
    "plt.figure(figsize=(15,10))\n",
    "plot_probability_alive_matrix(bgf)"
   ]
  }
 ],
 "metadata": {
  "kernelspec": {
   "display_name": "Python 3",
   "language": "python",
   "name": "python3"
  },
  "language_info": {
   "codemirror_mode": {
    "name": "ipython",
    "version": 3
   },
   "file_extension": ".py",
   "mimetype": "text/x-python",
   "name": "python",
   "nbconvert_exporter": "python",
   "pygments_lexer": "ipython3",
   "version": "3.7.2"
  }
 },
 "nbformat": 4,
 "nbformat_minor": 2
}