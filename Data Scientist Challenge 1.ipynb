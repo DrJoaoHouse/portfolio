{
 "cells": [
  {
   "cell_type": "markdown",
   "metadata": {},
   "source": [
    "-- write a script that does the following actions:\n",
    "\n",
    "1/ load csv ____.csv DONE\n",
    "\n",
    "2/ clean data best you think DONE\n",
    "\n",
    "3/ write a new csv with a similar name with the cleaned data DONE \n",
    "\n",
    "4/ output the following answers: DONE\n",
    "\t\n",
    "    a. what is the distance (in meters) between the cheapest sale and the most recent sale?\n",
    "\tb. what is the median street number, in multi-family houses, sold between 05/11/1933 and 03/12/1998, in Sacramento?\n",
    "\tc. what is the city name, and its 3 most common zip codes, that has the 2nd highest amount of beds sold? \n"
   ]
  },
  {
   "cell_type": "code",
   "execution_count": 37,
   "metadata": {},
   "outputs": [],
   "source": [
    "import pandas as pd\n",
    "import numpy as np\n",
    "import re"
   ]
  },
  {
   "cell_type": "code",
   "execution_count": 523,
   "metadata": {},
   "outputs": [],
   "source": [
    "real_state = pd.read_csv('/Users/joaosantos/Downloads/realestate_fraugster_case.csv',\n",
    "                         sep=';',\n",
    "                         index_col='sale_date'\n",
    "                        )"
   ]
  },
  {
   "cell_type": "code",
   "execution_count": 531,
   "metadata": {},
   "outputs": [
    {
     "name": "stdout",
     "output_type": "stream",
     "text": [
      "<class 'pandas.core.frame.DataFrame'>\n",
      "DatetimeIndex: 985 entries, 1943-01-09 11:56:01 to 1934-06-05 04:16:37\n",
      "Data columns (total 11 columns):\n",
      "street       985 non-null object\n",
      "city         985 non-null object\n",
      "zip          985 non-null object\n",
      "state        985 non-null object\n",
      "beds         985 non-null float64\n",
      "baths        985 non-null float64\n",
      "sq__ft       985 non-null float64\n",
      "type         985 non-null object\n",
      "price        985 non-null object\n",
      "latitude     985 non-null object\n",
      "longitude    985 non-null object\n",
      "dtypes: float64(3), object(8)\n",
      "memory usage: 92.3+ KB\n"
     ]
    }
   ],
   "source": [
    "real_state.info()"
   ]
  },
  {
   "cell_type": "code",
   "execution_count": 525,
   "metadata": {},
   "outputs": [],
   "source": [
    "#dropping NAs\n",
    "real_state.dropna(inplace=True)"
   ]
  },
  {
   "cell_type": "code",
   "execution_count": 527,
   "metadata": {},
   "outputs": [],
   "source": [
    "#uniform naming of Cities and streets\n",
    "real_state.loc[:,'city'] = real_state.loc[:,'city'].str.title()\n",
    "real_state.loc[:,'street'] = real_state.loc[:,'street'].str.title()"
   ]
  },
  {
   "cell_type": "code",
   "execution_count": 354,
   "metadata": {},
   "outputs": [],
   "source": [
    "#I used these functions to assess the presence of non fitting characters\n",
    "real_state[~real_state['zip'].str.isnumeric()]\n",
    "real_state[~real_state['price'].str.isnumeric()]\n",
    "[re.findall(r'[^0-9\\.\\- ]', string) for string in real_state['latitude']]\n",
    "[re.findall(r'[^0-9\\.\\-]', string) for string in real_state['longitude']]"
   ]
  },
  {
   "cell_type": "code",
   "execution_count": 108,
   "metadata": {},
   "outputs": [],
   "source": [
    "#as well as value counts to check if there's any weird value or typo\n",
    "real_state['city'].value_counts()\n",
    "real_state['zip'].value_counts()\n",
    "real_state['state'].value_counts()\n",
    "real_state['type'].value_counts()\n",
    "real_state['latitude'].value_counts()"
   ]
  },
  {
   "cell_type": "code",
   "execution_count": 528,
   "metadata": {},
   "outputs": [],
   "source": [
    "#and then removed non alphabetic characters from str columns\n",
    "real_state['city'] = [re.sub(pattern=r'[^a-zA-Z ]',string=string, repl='') for string in real_state['city']]\n",
    "real_state['state'] = [re.sub(pattern=r'[^a-zA-Z]',string=string, repl='') for string in real_state['state']]\n",
    "real_state['street'] = [re.sub(pattern=r'[^a-zA-Z0-9 ]',string=string, repl='') for string in real_state['street']]\n",
    "real_state['type'] = [re.sub(pattern=r'[^a-zA-Z ]',string=string, repl='') for string in real_state['type']]"
   ]
  },
  {
   "cell_type": "code",
   "execution_count": 529,
   "metadata": {},
   "outputs": [],
   "source": [
    "#and non numeric characters from numeric columns as well\n",
    "real_state['price'] = [re.sub(pattern=r'[^0-9]',string=string, repl='') for string in real_state['price']]\n",
    "real_state['zip'] = [re.sub(pattern=r'[^0-9]',string=string, repl='') for string in real_state['zip']]\n",
    "real_state['latitude'] = [re.sub(pattern=r'[^0-9\\.\\-]',string=string, repl='') for string in real_state['latitude']]\n",
    "real_state['longitude'] = [re.sub(pattern=r'[^0-9\\.\\-]',string=string, repl='') for string in real_state['longitude']]"
   ]
  },
  {
   "cell_type": "code",
   "execution_count": 345,
   "metadata": {},
   "outputs": [],
   "source": [
    "#alternative for checking a more specific latitude/longitude pattern and removing extra characters\n",
    "latitude_list = [re.split(pattern=r\"^(\\-?[0-9]+\\.[0-9]+)\",string=string) for string in real_state['latitude']]\n",
    "latitude = []\n",
    "for row in latitude_list:\n",
    "    counter = 0\n",
    "    for cell in row:\n",
    "        if re.search(r\"^\\-?[0-9]+\\.[0-9]+$\", cell) != None:\n",
    "            latitude.append(cell)\n",
    "            counter += 1\n",
    "    if counter == 0:\n",
    "        latitude.append('')\n",
    "    elif counter > 1:\n",
    "        raise 'Possible duplication'\n"
   ]
  },
  {
   "cell_type": "code",
   "execution_count": 530,
   "metadata": {},
   "outputs": [],
   "source": [
    "#clean index and convert it to DatetimeIndex\n",
    "real_state.index = pd.to_datetime([re.sub(pattern=r'[^\\:\\-0-9 ]',string=string, repl='') for string in real_state.index.values])\n"
   ]
  },
  {
   "cell_type": "code",
   "execution_count": 358,
   "metadata": {},
   "outputs": [],
   "source": [
    "#transform index to DatetimeIndex\n",
    "real_state.index = pd.to_datetime(real_state.index)"
   ]
  },
  {
   "cell_type": "code",
   "execution_count": 532,
   "metadata": {},
   "outputs": [],
   "source": [
    "#load cleaned data into CSV\n",
    "real_state.to_csv('real_state_clean.csv')"
   ]
  },
  {
   "cell_type": "code",
   "execution_count": 533,
   "metadata": {},
   "outputs": [
    {
     "data": {
      "text/html": [
       "<div>\n",
       "<style scoped>\n",
       "    .dataframe tbody tr th:only-of-type {\n",
       "        vertical-align: middle;\n",
       "    }\n",
       "\n",
       "    .dataframe tbody tr th {\n",
       "        vertical-align: top;\n",
       "    }\n",
       "\n",
       "    .dataframe thead th {\n",
       "        text-align: right;\n",
       "    }\n",
       "</style>\n",
       "<table border=\"1\" class=\"dataframe\">\n",
       "  <thead>\n",
       "    <tr style=\"text-align: right;\">\n",
       "      <th></th>\n",
       "      <th>street</th>\n",
       "      <th>city</th>\n",
       "      <th>zip</th>\n",
       "      <th>state</th>\n",
       "      <th>beds</th>\n",
       "      <th>baths</th>\n",
       "      <th>sq__ft</th>\n",
       "      <th>type</th>\n",
       "      <th>price</th>\n",
       "      <th>latitude</th>\n",
       "      <th>longitude</th>\n",
       "    </tr>\n",
       "  </thead>\n",
       "  <tbody>\n",
       "    <tr>\n",
       "      <th>1943-01-09 11:56:01</th>\n",
       "      <td>3526 High St</td>\n",
       "      <td>Sacramento</td>\n",
       "      <td>95838</td>\n",
       "      <td>CA</td>\n",
       "      <td>2.0</td>\n",
       "      <td>1.0</td>\n",
       "      <td>836.0</td>\n",
       "      <td>Residential</td>\n",
       "      <td>59222</td>\n",
       "      <td>38.631913</td>\n",
       "      <td>-121.434879</td>\n",
       "    </tr>\n",
       "    <tr>\n",
       "      <th>1996-11-08 23:09:38</th>\n",
       "      <td>51 Omaha Ct</td>\n",
       "      <td>Sacramento</td>\n",
       "      <td>95823</td>\n",
       "      <td>CA</td>\n",
       "      <td>3.0</td>\n",
       "      <td>1.0</td>\n",
       "      <td>1167.0</td>\n",
       "      <td>Residential</td>\n",
       "      <td>68212</td>\n",
       "      <td>38.478902</td>\n",
       "      <td>-121.431028</td>\n",
       "    </tr>\n",
       "    <tr>\n",
       "      <th>1915-01-05 07:31:45</th>\n",
       "      <td>2796 Branch St</td>\n",
       "      <td>Sacramento</td>\n",
       "      <td>95815</td>\n",
       "      <td>CA</td>\n",
       "      <td>2.0</td>\n",
       "      <td>1.0</td>\n",
       "      <td>796.0</td>\n",
       "      <td>Residential</td>\n",
       "      <td>68880</td>\n",
       "      <td>38.618305</td>\n",
       "      <td>-121.443839</td>\n",
       "    </tr>\n",
       "    <tr>\n",
       "      <th>1998-10-22 04:46:05</th>\n",
       "      <td>2805 Janette Way</td>\n",
       "      <td>Sacramento</td>\n",
       "      <td>95815</td>\n",
       "      <td>CA</td>\n",
       "      <td>2.0</td>\n",
       "      <td>1.0</td>\n",
       "      <td>852.0</td>\n",
       "      <td>Residential</td>\n",
       "      <td>69307</td>\n",
       "      <td>38.616835</td>\n",
       "      <td>-121.439146</td>\n",
       "    </tr>\n",
       "    <tr>\n",
       "      <th>1972-01-05 20:52:32</th>\n",
       "      <td>6001 Mcmahon Dr</td>\n",
       "      <td>Sacramento</td>\n",
       "      <td>95824</td>\n",
       "      <td>CA</td>\n",
       "      <td>2.0</td>\n",
       "      <td>1.0</td>\n",
       "      <td>797.0</td>\n",
       "      <td>Residential</td>\n",
       "      <td>81900</td>\n",
       "      <td>38.51947</td>\n",
       "      <td>-121.435768</td>\n",
       "    </tr>\n",
       "  </tbody>\n",
       "</table>\n",
       "</div>"
      ],
      "text/plain": [
       "                               street        city    zip state  beds  baths  \\\n",
       "1943-01-09 11:56:01      3526 High St  Sacramento  95838    CA   2.0    1.0   \n",
       "1996-11-08 23:09:38       51 Omaha Ct  Sacramento  95823    CA   3.0    1.0   \n",
       "1915-01-05 07:31:45    2796 Branch St  Sacramento  95815    CA   2.0    1.0   \n",
       "1998-10-22 04:46:05  2805 Janette Way  Sacramento  95815    CA   2.0    1.0   \n",
       "1972-01-05 20:52:32   6001 Mcmahon Dr  Sacramento  95824    CA   2.0    1.0   \n",
       "\n",
       "                     sq__ft         type  price   latitude    longitude  \n",
       "1943-01-09 11:56:01   836.0  Residential  59222  38.631913  -121.434879  \n",
       "1996-11-08 23:09:38  1167.0  Residential  68212  38.478902  -121.431028  \n",
       "1915-01-05 07:31:45   796.0  Residential  68880  38.618305  -121.443839  \n",
       "1998-10-22 04:46:05   852.0  Residential  69307  38.616835  -121.439146  \n",
       "1972-01-05 20:52:32   797.0  Residential  81900   38.51947  -121.435768  "
      ]
     },
     "execution_count": 533,
     "metadata": {},
     "output_type": "execute_result"
    }
   ],
   "source": [
    "real_state.head()"
   ]
  },
  {
   "cell_type": "markdown",
   "metadata": {},
   "source": [
    "### a. what is the distance (in meters) between the cheapest sale and the most recent sale?"
   ]
  },
  {
   "cell_type": "code",
   "execution_count": 534,
   "metadata": {},
   "outputs": [],
   "source": [
    "#get the cheapest sale and most recent sale latitude and longitude\n",
    "cheapest_sale = real_state[['latitude','longitude']][real_state['price'] == real_state['price'].min()]\n",
    "recent_sale = real_state[['latitude','longitude']].sort_index(axis=0, ascending=False).iloc[0,:]"
   ]
  },
  {
   "cell_type": "code",
   "execution_count": 535,
   "metadata": {},
   "outputs": [],
   "source": [
    "#define function to output distance between two points in Kilometers using Haversine formula\n",
    "# https://en.wikipedia.org/wiki/Haversine_formula\n",
    "from math import cos, asin, sqrt\n",
    "def distance(lat1, lon1, lat2, lon2):\n",
    "    p = 0.017453292519943295     #Pi/180\n",
    "    a = 0.5 - cos((lat2 - lat1) * p)/2 + cos(lat1 * p) * cos(lat2 * p) * (1 - cos((lon2 - lon1) * p)) / 2\n",
    "    return 12742 * asin(sqrt(a)) #2*R*asin..."
   ]
  },
  {
   "cell_type": "code",
   "execution_count": 536,
   "metadata": {},
   "outputs": [],
   "source": [
    "#since there were 3 entries tied for cheapest sales, the distance between those 3 and the cheapest sale was calculated\n",
    "cheapest_sale['distance'] = cheapest_sale.apply(lambda x: str(round(distance(pd.to_numeric(recent_sale[0]), \n",
    "                                                                             pd.to_numeric(recent_sale[1]),\n",
    "                                                                             pd.to_numeric(x['latitude']),\n",
    "                                                                             pd.to_numeric(x['longitude']))*1000)\n",
    "                                                             )+'m', \n",
    "                                                axis=1)\n"
   ]
  },
  {
   "cell_type": "code",
   "execution_count": 537,
   "metadata": {},
   "outputs": [],
   "source": [
    "distance_between_sales = cheapest_sale"
   ]
  },
  {
   "cell_type": "code",
   "execution_count": 538,
   "metadata": {},
   "outputs": [
    {
     "data": {
      "text/html": [
       "<div>\n",
       "<style scoped>\n",
       "    .dataframe tbody tr th:only-of-type {\n",
       "        vertical-align: middle;\n",
       "    }\n",
       "\n",
       "    .dataframe tbody tr th {\n",
       "        vertical-align: top;\n",
       "    }\n",
       "\n",
       "    .dataframe thead th {\n",
       "        text-align: right;\n",
       "    }\n",
       "</style>\n",
       "<table border=\"1\" class=\"dataframe\">\n",
       "  <thead>\n",
       "    <tr style=\"text-align: right;\">\n",
       "      <th></th>\n",
       "      <th>latitude</th>\n",
       "      <th>longitude</th>\n",
       "      <th>distance</th>\n",
       "    </tr>\n",
       "  </thead>\n",
       "  <tbody>\n",
       "    <tr>\n",
       "      <th>1988-07-28 09:27:38</th>\n",
       "      <td>38.423251</td>\n",
       "      <td>-121.444489</td>\n",
       "      <td>53034m</td>\n",
       "    </tr>\n",
       "    <tr>\n",
       "      <th>1944-01-09 17:10:33</th>\n",
       "      <td>38.617718</td>\n",
       "      <td>-121.440089</td>\n",
       "      <td>32415m</td>\n",
       "    </tr>\n",
       "    <tr>\n",
       "      <th>1905-01-11 12:42:46</th>\n",
       "      <td>38.544627</td>\n",
       "      <td>-121.35796</td>\n",
       "      <td>38269m</td>\n",
       "    </tr>\n",
       "  </tbody>\n",
       "</table>\n",
       "</div>"
      ],
      "text/plain": [
       "                      latitude    longitude distance\n",
       "1988-07-28 09:27:38  38.423251  -121.444489   53034m\n",
       "1944-01-09 17:10:33  38.617718  -121.440089   32415m\n",
       "1905-01-11 12:42:46  38.544627   -121.35796   38269m"
      ]
     },
     "execution_count": 538,
     "metadata": {},
     "output_type": "execute_result"
    }
   ],
   "source": [
    "distance_between_sales"
   ]
  },
  {
   "cell_type": "markdown",
   "metadata": {},
   "source": [
    "### b. what is the median street number, in multi-family houses, sold between 05/11/1933 and 03/12/1998 , in Sacramento?"
   ]
  },
  {
   "cell_type": "code",
   "execution_count": 539,
   "metadata": {},
   "outputs": [],
   "source": [
    "#first filter DF for conditions\n",
    "filtered_data = real_state[(real_state['type']=='MultiFamily') & (real_state.index >= '05/11/1933') \n",
    "           & (real_state.index <= '03/12/1998') & (real_state['city'] == 'Sacramento')]['street'].tolist()\n",
    "\n",
    "#then split the numbers from the street string and put them in a clean list, already as int to be used to calculate median\n",
    "street_numbers = []\n",
    "for row in filtered_data:\n",
    "    street_numbers.append(int(list(filter(None,re.split(pattern=r\"[^0-9]\",string=row)))[0]))\n",
    "    \n"
   ]
  },
  {
   "cell_type": "code",
   "execution_count": 540,
   "metadata": {},
   "outputs": [
    {
     "data": {
      "text/plain": [
       "2820.0"
      ]
     },
     "execution_count": 540,
     "metadata": {},
     "output_type": "execute_result"
    }
   ],
   "source": [
    "#calculate median from list of street numbers\n",
    "np.median(street_numbers)"
   ]
  },
  {
   "cell_type": "markdown",
   "metadata": {},
   "source": [
    "### c. what is the city name, and its 3 most common zip codes, that has the 2nd highest amount of beds sold?"
   ]
  },
  {
   "cell_type": "code",
   "execution_count": 541,
   "metadata": {},
   "outputs": [
    {
     "data": {
      "text/plain": [
       "95758    44\n",
       "95757    36\n",
       "95624    34\n",
       "Name: zip, dtype: int64"
      ]
     },
     "execution_count": 541,
     "metadata": {},
     "output_type": "execute_result"
    }
   ],
   "source": [
    "#get first the city with the 2nd highest amount in beds sold and use it as a mask to narrow it down to that particular \n",
    "#city and then perform a value counts on that DF to get the top3 zip codes\n",
    "real_state[real_state['city']==real_state.groupby('city')[['beds','city']].sum().sort_values('beds').index[-2]\n",
    "          ]['zip'].value_counts()"
   ]
  }
 ],
 "metadata": {
  "kernelspec": {
   "display_name": "Python 3",
   "language": "python",
   "name": "python3"
  },
  "language_info": {
   "codemirror_mode": {
    "name": "ipython",
    "version": 3
   },
   "file_extension": ".py",
   "mimetype": "text/x-python",
   "name": "python",
   "nbconvert_exporter": "python",
   "pygments_lexer": "ipython3",
   "version": "3.7.2"
  }
 },
 "nbformat": 4,
 "nbformat_minor": 2
}
